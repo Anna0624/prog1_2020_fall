{
 "cells": [
  {
   "cell_type": "markdown",
   "metadata": {},
   "source": [
    "### feladat: írjatok egy függvényt, ami:\n",
    "- két listát fogad paraméternek, melyek egy-egy múltbéli dátumot tartalmaznak\n",
    "- mindkét lista három elemű az első az évet, a 2. a hónapot a 3. pedig a napot jelöli\n",
    "- a függvény visszatérési értéke pedig két szám ami a mai dátum és a bemeneti paraméterként megadott két dátum között eltelt napok száma"
   ]
  },
  {
   "cell_type": "markdown",
   "metadata": {},
   "source": [
    "#### Segítség:\n",
    "- Figyeljetek rá, hogy Pythonban **nullától kezdődik az indexelés**!\n",
    "- Lista elemeire a következő képpen hivatkozunk: lista_valtozo[0] - visszaadja az első elemet, lista_valtozo[1] - visszaadja a második elemet ...\n",
    "- 31 napos hónapok: [1, 3, 5, 7, 8, 10, 12]\n",
    "- Létezik az in operátor, ami azt vizsgálja meg, hogy egy adott érték eleme e egy másoknak.\n",
    "- Pl. \"a\" in \"asd\" kifejezés értéke True, ezt listákra is lehet alkalmazni"
   ]
  },
  {
   "cell_type": "markdown",
   "metadata": {},
   "source": [
    "----------------------------"
   ]
  },
  {
   "cell_type": "markdown",
   "metadata": {},
   "source": [
    "**ezek lesznek a függvény paraméterei (futtasátok a cellát Ctrl + Enter-rel)**"
   ]
  },
  {
   "cell_type": "code",
   "execution_count": null,
   "metadata": {},
   "outputs": [],
   "source": [
    "input_list1 = [1970, 3, 20]\n",
    "input_list2 = [1905, 3, 29]"
   ]
  },
  {
   "cell_type": "markdown",
   "metadata": {},
   "source": [
    "**ennél pedig remélhetőleg írtok egy jobb függvényt :)**\n",
    "\n",
    "utána az előzőhöz hasonlóan futtassátok a cellát Ctrl+Enter-rel"
   ]
  },
  {
   "cell_type": "code",
   "execution_count": null,
   "metadata": {},
   "outputs": [],
   "source": [
    "def own_func(p1, p2):\n",
    "    return p1,p2"
   ]
  },
  {
   "cell_type": "markdown",
   "metadata": {},
   "source": [
    "----------------------------"
   ]
  },
  {
   "cell_type": "markdown",
   "metadata": {},
   "source": [
    "### itt tudjátok leellenőrizni, hogy jó-e a függvény, amit írtatok\n",
    "\n",
    "- az own_func helyére írjátok be a saját függvényetek nevét\n",
    "- a p1 és p2 helyére írjatok tetszőleges paramétereket: két listát **[év, hónap, nap] formátumban!**), ezzel ellenőrzitek a függvényt\n",
    "- futtassátok a cellát Ctrl + Enter-rel!"
   ]
  },
  {
   "cell_type": "code",
   "execution_count": null,
   "metadata": {},
   "outputs": [],
   "source": [
    "from func import check_day\n",
    "check_day(own_func, p1, p2)"
   ]
  },
  {
   "cell_type": "code",
   "execution_count": null,
   "metadata": {},
   "outputs": [],
   "source": []
  }
 ],
 "metadata": {
  "kernelspec": {
   "display_name": "Python 3",
   "language": "python",
   "name": "python3"
  },
  "language_info": {
   "codemirror_mode": {
    "name": "ipython",
    "version": 3
   },
   "file_extension": ".py",
   "mimetype": "text/x-python",
   "name": "python",
   "nbconvert_exporter": "python",
   "pygments_lexer": "ipython3",
   "version": "3.9.0"
  }
 },
 "nbformat": 4,
 "nbformat_minor": 2
}
