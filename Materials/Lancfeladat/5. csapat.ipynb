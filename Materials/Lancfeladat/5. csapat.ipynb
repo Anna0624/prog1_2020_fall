{
 "cells": [
  {
   "cell_type": "markdown",
   "metadata": {},
   "source": [
    "### feladat: írjatok egy függvényt, ami:\n",
    "- egy string-et fogad első paraméternek\n",
    "- **minden n-edik karakterét tartja csak meg (ahol n a függvény második paramétere), az összes többit kidobja**\n",
    "- és ez a módosított string a visszatérési értéke\n",
    "\n",
    "Figyeljetek rá, hogy Pythonban **nullától kezdődik az indexelés**!"
   ]
  },
  {
   "cell_type": "markdown",
   "metadata": {},
   "source": [
    "----------------------------"
   ]
  },
  {
   "cell_type": "markdown",
   "metadata": {},
   "source": [
    "**a függvény két paraméterét a második és negyedik csapattól kapjátok meg (futtasátok a cellát Ctrl + Enter-rel)**"
   ]
  },
  {
   "cell_type": "code",
   "execution_count": null,
   "metadata": {},
   "outputs": [],
   "source": [
    "input_string = 'ide írd a második csapattól kapott string-et'\n",
    "n = 'ez lesz a negyedik csapattól kapott integer'"
   ]
  },
  {
   "cell_type": "markdown",
   "metadata": {},
   "source": [
    "**ennél pedig remélhetőleg írtok egy jobb függvényt :)**\n",
    "\n",
    "utána az előzőhöz hasonlóan futtassátok a cellát Ctrl+Enter-rel"
   ]
  },
  {
   "cell_type": "code",
   "execution_count": null,
   "metadata": {},
   "outputs": [],
   "source": [
    "def own_func(p1, p2):\n",
    "    return p1, p2"
   ]
  },
  {
   "cell_type": "markdown",
   "metadata": {},
   "source": [
    "----------------------------"
   ]
  },
  {
   "cell_type": "markdown",
   "metadata": {},
   "source": [
    "### itt tudjátok leellenőrizni, hogy jó-e a függvény, amit írtatok\n",
    "\n",
    "- az own_func helyére írjátok be a saját függvényetek nevét\n",
    "- a p1 és p2 helyére írjatok tetszőleges paramétereket: **egy szöveget és egy egész számot, és a szám ne legyen nagyobb, mint a szöveg hossza mínusz 1!**\n",
    "- futtassátok a cellát Ctrl + Enter-rel!"
   ]
  },
  {
   "cell_type": "code",
   "execution_count": null,
   "metadata": {},
   "outputs": [],
   "source": [
    "from func import check_sel\n",
    "check_sel(own_func,p1,p2)"
   ]
  },
  {
   "cell_type": "code",
   "execution_count": null,
   "metadata": {},
   "outputs": [],
   "source": []
  }
 ],
 "metadata": {
  "kernelspec": {
   "display_name": "Python 3",
   "language": "python",
   "name": "python3"
  },
  "language_info": {
   "codemirror_mode": {
    "name": "ipython",
    "version": 3
   },
   "file_extension": ".py",
   "mimetype": "text/x-python",
   "name": "python",
   "nbconvert_exporter": "python",
   "pygments_lexer": "ipython3",
   "version": "3.9.0"
  }
 },
 "nbformat": 4,
 "nbformat_minor": 2
}
