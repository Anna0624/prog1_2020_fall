{
 "cells": [
  {
   "cell_type": "code",
   "execution_count": 1,
   "metadata": {},
   "outputs": [],
   "source": [
    "from jkg_evaluators import eggdrop_100floor_2egg"
   ]
  },
  {
   "cell_type": "code",
   "execution_count": 247,
   "metadata": {},
   "outputs": [],
   "source": [
    "def solution1(breaks):\n",
    "    floor = 10\n",
    "    while breaks(floor) == False:\n",
    "        floor += 10\n",
    "    floor_cap = floor\n",
    "    floor = floor_cap -10\n",
    "    for i in range(1,10):\n",
    "        floor += 1\n",
    "        if breaks(floor) == True:\n",
    "            return (floor-1)\n",
    "    if str(floor)[-1] == \"9\":\n",
    "        return floor"
   ]
  },
  {
   "cell_type": "code",
   "execution_count": 248,
   "metadata": {},
   "outputs": [
    {
     "name": "stdout",
     "output_type": "stream",
     "text": [
      "- success rate: 101/101 (100.0%)\n",
      "- error count: 0\n",
      "- best performance: 2\n",
      "- worst performance: 19\n",
      "- mean performance: 10.910891089108912\n"
     ]
    }
   ],
   "source": [
    "eggdrop_100floor_2egg.evaluate(solution1)"
   ]
  },
  {
   "cell_type": "code",
   "execution_count": 153,
   "metadata": {},
   "outputs": [
    {
     "name": "stdout",
     "output_type": "stream",
     "text": [
      "Minimum number of trials in worst case with 2 eggs and 100 floors is 14\n"
     ]
    }
   ],
   "source": []
  },
  {
   "cell_type": "code",
   "execution_count": 294,
   "metadata": {},
   "outputs": [
    {
     "name": "stdout",
     "output_type": "stream",
     "text": [
      "17\n",
      "33\n",
      "48\n",
      "62\n",
      "75\n",
      "87\n",
      "98\n"
     ]
    }
   ],
   "source": [
    "x = 17\n",
    "jump = 17\n",
    "while x<100:\n",
    "    jump = jump-1\n",
    "    print(x)\n",
    "    x = x+jump\n",
    "    "
   ]
  },
  {
   "cell_type": "code",
   "execution_count": 297,
   "metadata": {},
   "outputs": [
    {
     "name": "stdout",
     "output_type": "stream",
     "text": [
      "- success rate: 101/101 (100.0%)\n",
      "- error count: 0\n",
      "- best performance: 2\n",
      "- worst performance: 17\n",
      "- mean performance: 11.247524752475247\n"
     ]
    }
   ],
   "source": [
    "#tizenhét a worst performance\n",
    "def solution_right2(breaks):\n",
    "    x = 17\n",
    "    jump = 17\n",
    "    while breaks(x) == False:\n",
    "        if x == 99:\n",
    "            if breaks(x+1):\n",
    "                return(x)\n",
    "            else: return(x+1)\n",
    "        jump = jump-1\n",
    "        x = x+jump\n",
    "    felso_korlat = x\n",
    "    x = x-jump+1\n",
    "    for i in range(jump+1):\n",
    "        if breaks(x) == False:\n",
    "            if x+1 == felso_korlat:\n",
    "                return x\n",
    "            x += 1\n",
    "        else: return(x-1)\n",
    "eggdrop_100floor_2egg.evaluate(solution_right2)      "
   ]
  },
  {
   "cell_type": "code",
   "execution_count": 299,
   "metadata": {},
   "outputs": [
    {
     "name": "stdout",
     "output_type": "stream",
     "text": [
      "- success rate: 101/101 (100.0%)\n",
      "- error count: 0\n",
      "- best performance: 2\n",
      "- worst performance: 16\n",
      "- mean performance: 10.950495049504951\n"
     ]
    }
   ],
   "source": [
    "#tizenhat a worst performance\n",
    "def solution_right3(breaks):\n",
    "    x = 16\n",
    "    jump = 16\n",
    "    while breaks(x) == False:\n",
    "        if x == 99:\n",
    "            if breaks(x+1):\n",
    "                return(x)\n",
    "            else: return(x+1)\n",
    "        jump = jump-1\n",
    "        x = x+jump\n",
    "    felso_korlat = x\n",
    "    x = x-jump+1\n",
    "    for i in range(jump+1):\n",
    "        if breaks(x) == False:\n",
    "            if x+1 == felso_korlat:\n",
    "                return x\n",
    "            x += 1\n",
    "        else: return(x-1)\n",
    "eggdrop_100floor_2egg.evaluate(solution_right3)      "
   ]
  },
  {
   "cell_type": "code",
   "execution_count": 300,
   "metadata": {},
   "outputs": [
    {
     "name": "stdout",
     "output_type": "stream",
     "text": [
      "- success rate: 101/101 (100.0%)\n",
      "- error count: 0\n",
      "- best performance: 2\n",
      "- worst performance: 16\n",
      "- mean performance: 10.950495049504951\n"
     ]
    }
   ],
   "source": [
    "#tizenhat a worst performance\n",
    "def solution_right4(breaks):\n",
    "    x = 15\n",
    "    jump = 15\n",
    "    while breaks(x) == False:\n",
    "        if x == 99:\n",
    "            if breaks(x+1):\n",
    "                return(x)\n",
    "            else: return(x+1)\n",
    "        jump = jump-1\n",
    "        x = x+jump\n",
    "    felso_korlat = x\n",
    "    x = x-jump+1\n",
    "    for i in range(jump+1):\n",
    "        if breaks(x) == False:\n",
    "            if x+1 == felso_korlat:\n",
    "                return x\n",
    "            x += 1\n",
    "        else: return(x-1)\n",
    "eggdrop_100floor_2egg.evaluate(solution_right3)      "
   ]
  },
  {
   "cell_type": "code",
   "execution_count": 301,
   "metadata": {},
   "outputs": [
    {
     "name": "stdout",
     "output_type": "stream",
     "text": [
      "- success rate: 101/101 (100.0%)\n",
      "- error count: 0\n",
      "- best performance: 2\n",
      "- worst performance: 14\n",
      "- mean performance: 10.366336633663366\n"
     ]
    }
   ],
   "source": [
    "#tizennégy a worst performance\n",
    "def solution_right6(breaks):\n",
    "    x = 14\n",
    "    jump = 14\n",
    "    while breaks(x) == False:\n",
    "        if x == 99:\n",
    "            if breaks(x+1):\n",
    "                return(x)\n",
    "            else: return(x+1)\n",
    "        jump = jump-1\n",
    "        x = x+jump\n",
    "    felso_korlat = x\n",
    "    x = x-jump+1\n",
    "    for i in range(jump+1):\n",
    "        if breaks(x) == False:\n",
    "            if x+1 == felso_korlat:\n",
    "                return x\n",
    "            x += 1\n",
    "        else: return(x-1)\n",
    "eggdrop_100floor_2egg.evaluate(solution_right6)      "
   ]
  },
  {
   "cell_type": "code",
   "execution_count": null,
   "metadata": {},
   "outputs": [],
   "source": []
  }
 ],
 "metadata": {
  "kernelspec": {
   "display_name": "Python 3",
   "language": "python",
   "name": "python3"
  },
  "language_info": {
   "codemirror_mode": {
    "name": "ipython",
    "version": 3
   },
   "file_extension": ".py",
   "mimetype": "text/x-python",
   "name": "python",
   "nbconvert_exporter": "python",
   "pygments_lexer": "ipython3",
   "version": "3.8.6"
  }
 },
 "nbformat": 4,
 "nbformat_minor": 4
}
