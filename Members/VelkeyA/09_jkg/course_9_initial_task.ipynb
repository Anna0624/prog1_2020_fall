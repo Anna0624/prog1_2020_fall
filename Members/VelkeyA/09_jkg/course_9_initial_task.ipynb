{
 "cells": [
  {
   "cell_type": "markdown",
   "metadata": {},
   "source": [
    "#### find the smallest number in a list, the double of which is also in the list\n",
    "\n",
    "id there is no such number, return 0\n",
    "\n",
    "> ```[1, 3, 7, 6, 15, 12, 20, 2] -> 3```\n",
    "\n",
    "(as 6 is also in the list)"
   ]
  },
  {
   "cell_type": "code",
   "execution_count": 1,
   "metadata": {},
   "outputs": [],
   "source": [
    "from jkg_evaluators import smallest_where_double_also"
   ]
  },
  {
   "cell_type": "code",
   "execution_count": 41,
   "metadata": {},
   "outputs": [],
   "source": [
    "def find_smallest_where_double(list_of_numbers):\n",
    "    szamok = sorted(list_of_numbers)\n",
    "    eredmeny = []\n",
    "    for i in szamok:\n",
    "        x = i*2\n",
    "        for z in szamok:\n",
    "            if z == x:\n",
    "                eredmeny.append(i)\n",
    "    if eredmeny != []:\n",
    "        return(eredmeny[0])\n",
    "    else: \n",
    "        return 0"
   ]
  },
  {
   "cell_type": "code",
   "execution_count": 42,
   "metadata": {},
   "outputs": [
    {
     "name": "stdout",
     "output_type": "stream",
     "text": [
      "- success rate: 497/497 (100.0%)\n",
      "- error count: 0\n",
      "- best performance: 1\n",
      "- worst performance: 1\n",
      "- mean performance: 1.0\n"
     ]
    }
   ],
   "source": [
    "smallest_where_double_also.evaluate(find_smallest_where_double)"
   ]
  },
  {
   "cell_type": "code",
   "execution_count": null,
   "metadata": {},
   "outputs": [],
   "source": []
  }
 ],
 "metadata": {
  "kernelspec": {
   "display_name": "Python 3",
   "language": "python",
   "name": "python3"
  },
  "language_info": {
   "codemirror_mode": {
    "name": "ipython",
    "version": 3
   },
   "file_extension": ".py",
   "mimetype": "text/x-python",
   "name": "python",
   "nbconvert_exporter": "python",
   "pygments_lexer": "ipython3",
   "version": "3.8.6"
  }
 },
 "nbformat": 4,
 "nbformat_minor": 2
}
