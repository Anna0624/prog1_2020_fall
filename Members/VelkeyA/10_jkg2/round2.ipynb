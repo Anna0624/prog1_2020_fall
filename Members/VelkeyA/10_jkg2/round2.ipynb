{
 "cells": [
  {
   "cell_type": "code",
   "execution_count": 1,
   "metadata": {
    "ExecuteTime": {
     "end_time": "2020-11-24T18:01:25.150883Z",
     "start_time": "2020-11-24T18:01:25.107992Z"
    }
   },
   "outputs": [],
   "source": [
    "import sys\n",
    "\n",
    "sys.path.insert(0, \"..\")\n",
    "from __import_file__ import MendolM\n",
    "from __import_file__ import KalotaiB\n",
    "from __import_file__ import BaratA\n",
    "from __import_file__ import ValentinyiA\n",
    "from __import_file__ import KeglV\n",
    "from __import_file__ import BalazsJ\n",
    "from __import_file__ import TompaM\n",
    "from __import_file__ import VelkeyA\n",
    "from __import_file__ import PapS"
   ]
  },
  {
   "cell_type": "code",
   "execution_count": 2,
   "metadata": {
    "ExecuteTime": {
     "end_time": "2020-11-24T18:01:26.067880Z",
     "start_time": "2020-11-24T18:01:26.062315Z"
    }
   },
   "outputs": [],
   "source": [
    "def check(test_str, string):\n",
    "    count = 0\n",
    "    for i in test_str:\n",
    "        if i == string:\n",
    "            count = count + 1\n",
    "    return count"
   ]
  },
  {
   "cell_type": "markdown",
   "metadata": {},
   "source": [
    "## MendolM - kész"
   ]
  },
  {
   "cell_type": "code",
   "execution_count": 3,
   "metadata": {
    "ExecuteTime": {
     "end_time": "2020-11-24T18:01:28.464427Z",
     "start_time": "2020-11-24T18:01:28.457494Z"
    }
   },
   "outputs": [],
   "source": [
    "def MendolM_solution(alma):\n",
    "    # modify this function\n",
    "    # return value and parameters and all\n",
    "    a_szama = []\n",
    "    index = -1\n",
    "    for i in alma:\n",
    "        index = index + 1\n",
    "        i = i.lower()\n",
    "        a_szama.append(check(i, \"a\"))\n",
    "    ha_egy = a_szama.index(max(a_szama))\n",
    "    if sum(a_szama) == 0:\n",
    "        return -1\n",
    "    else:\n",
    "        return ha_egy"
   ]
  },
  {
   "cell_type": "code",
   "execution_count": 4,
   "metadata": {
    "ExecuteTime": {
     "end_time": "2020-11-24T18:01:35.542014Z",
     "start_time": "2020-11-24T18:01:29.016788Z"
    }
   },
   "outputs": [
    {
     "name": "stdout",
     "output_type": "stream",
     "text": [
      "- success rate: 495/495 (100.0%)\n",
      "- error count: 0\n",
      "- best performance: 1\n",
      "- worst performance: 1\n",
      "- mean performance: 1.0\n"
     ]
    }
   ],
   "source": [
    "MendolM.evaluate(MendolM_solution)"
   ]
  },
  {
   "cell_type": "markdown",
   "metadata": {},
   "source": [
    "## KalotaiB - teso, add már le a házidat"
   ]
  },
  {
   "cell_type": "code",
   "execution_count": 7,
   "metadata": {},
   "outputs": [],
   "source": [
    "def KalotaiB_solution():\n",
    "    # modify this function\n",
    "    # return value and parameters and all\n",
    "    return 0"
   ]
  },
  {
   "cell_type": "code",
   "execution_count": 8,
   "metadata": {},
   "outputs": [
    {
     "name": "stdout",
     "output_type": "stream",
     "text": [
      "- success rate: 0/497 (0.0%)\n",
      "- error count: 497\n",
      "\n",
      "\n",
      " ERROR at: \n",
      " {'list_of_numbers': [0, 1, 2, 3, 4]} \n",
      " - TypeError (KalotaiB_solution() takes 0 positional arguments but 1 was given)\n",
      "\n",
      "\n",
      " ERROR at: \n",
      " {'list_of_numbers': [0, 0, 10, 3, 10]} \n",
      " - TypeError (KalotaiB_solution() takes 0 positional arguments but 1 was given)\n",
      "\n",
      "\n",
      " ERROR at: \n",
      " {'list_of_numbers': [-20, -40, 0, 1, 2, 3, 40]} \n",
      " - TypeError (KalotaiB_solution() takes 0 positional arguments but 1 was given)\n",
      "\n",
      "\n",
      " ERROR at: \n",
      " {'list_of_numbers': [-1100, 100, 20]} \n",
      " - TypeError (KalotaiB_solution() takes 0 positional arguments but 1 was given)\n",
      "\n",
      "\n",
      " ERROR at: \n",
      " {'list_of_numbers': [0, 1]} \n",
      " - TypeError (KalotaiB_solution() takes 0 positional arguments but 1 was given)\n",
      "\n",
      "\n",
      " ERROR at: \n",
      " {'list_of_numbers': [21, 120, 220]} \n",
      " - TypeError (KalotaiB_solution() takes 0 positional arguments but 1 was given)\n",
      "\n",
      "\n",
      " ERROR at: \n",
      " {'list_of_numbers': [720, -816, 764, 327, -818, -351, -220, 699, -633, 413]} \n",
      " - TypeError (KalotaiB_solution() takes 0 positional arguments but 1 was given)\n",
      "\n",
      "\n",
      " ERROR at: \n",
      " {'list_of_numbers': [844, -424, 6, -713, 167, 794, -328, -331, 999, 874, 914]} \n",
      " - TypeError (KalotaiB_solution() takes 0 positional arguments but 1 was given)\n",
      "\n",
      "\n",
      " ERROR at: \n",
      " {'list_of_numbers': [-230, -248, -708, -606, 952, 949, 233, -89, -683, -30, -19, 598]} \n",
      " - TypeError (KalotaiB_solution() takes 0 positional arguments but 1 was given)\n",
      "\n",
      "\n",
      " ERROR at: \n",
      " {'list_of_numbers': [-521, 11, -707, 614, 151, -415, 923, 775, -446, 402, -339, -614, 180]} \n",
      " - TypeError (KalotaiB_solution() takes 0 positional arguments but 1 was given)\n"
     ]
    }
   ],
   "source": [
    "KalotaiB.evaluate(KalotaiB_solution)"
   ]
  },
  {
   "cell_type": "markdown",
   "metadata": {},
   "source": [
    "## BaratA - kész"
   ]
  },
  {
   "cell_type": "code",
   "execution_count": 9,
   "metadata": {},
   "outputs": [],
   "source": [
    "def BaratA_solution(input1):\n",
    "    # modify this function\n",
    "    # return value and parameters and all\n",
    "    lista1 = []\n",
    "    for i in input1:\n",
    "        if i % 2 == 1 and i > 0:\n",
    "            lista1.append(int(i))\n",
    "\n",
    "    return sum(set(lista1))"
   ]
  },
  {
   "cell_type": "code",
   "execution_count": 10,
   "metadata": {},
   "outputs": [
    {
     "name": "stdout",
     "output_type": "stream",
     "text": [
      "- success rate: 497/497 (100.0%)\n",
      "- error count: 0\n",
      "- best performance: 1\n",
      "- worst performance: 1\n",
      "- mean performance: 1.0\n"
     ]
    }
   ],
   "source": [
    "BaratA.evaluate(BaratA_solution)"
   ]
  },
  {
   "cell_type": "markdown",
   "metadata": {},
   "source": [
    "## ValentinyiA - kész"
   ]
  },
  {
   "cell_type": "code",
   "execution_count": 11,
   "metadata": {},
   "outputs": [],
   "source": [
    "def ValentinyiA_solution(lista, szam):\n",
    "    lista = sorted(lista, reverse=True)\n",
    "    eredmeny_lista = []\n",
    "    for i in lista:\n",
    "        # if i%2 == 0:\n",
    "        if (i / szam) % 2 == 0:  # ez érdekes hogy most akkor mit osztok mivel.\n",
    "            eredmeny_lista.append(i)\n",
    "    if eredmeny_lista == []:\n",
    "        return 0\n",
    "    else:\n",
    "        return max(eredmeny_lista)"
   ]
  },
  {
   "cell_type": "code",
   "execution_count": 12,
   "metadata": {
    "scrolled": false
   },
   "outputs": [
    {
     "name": "stdout",
     "output_type": "stream",
     "text": [
      "- success rate: 497/497 (100.0%)\n",
      "- error count: 0\n",
      "- best performance: 1\n",
      "- worst performance: 1\n",
      "- mean performance: 1.0\n"
     ]
    }
   ],
   "source": [
    "ValentinyiA.evaluate(ValentinyiA_solution)"
   ]
  },
  {
   "cell_type": "markdown",
   "metadata": {},
   "source": [
    "## KeglV - kész"
   ]
  },
  {
   "cell_type": "code",
   "execution_count": 15,
   "metadata": {},
   "outputs": [],
   "source": [
    "def KeglV_solution(lista):\n",
    "    # modify this function\n",
    "    # return value and parameters and all\n",
    "    a = sorted(lista)\n",
    "    x = a[-1] * a[-2]\n",
    "    y = a[0] * a[1]\n",
    "    if y > x:\n",
    "        return y\n",
    "    else:\n",
    "        return x"
   ]
  },
  {
   "cell_type": "code",
   "execution_count": 16,
   "metadata": {},
   "outputs": [
    {
     "name": "stdout",
     "output_type": "stream",
     "text": [
      "- success rate: 497/497 (100.0%)\n",
      "- error count: 0\n",
      "- best performance: 1\n",
      "- worst performance: 1\n",
      "- mean performance: 1.0\n"
     ]
    }
   ],
   "source": [
    "KeglV.evaluate(KeglV_solution)"
   ]
  },
  {
   "cell_type": "markdown",
   "metadata": {},
   "source": [
    "## BalazsJ - teso, add már le a házidat"
   ]
  },
  {
   "cell_type": "code",
   "execution_count": null,
   "metadata": {},
   "outputs": [],
   "source": [
    "def BalazsJ_solution():\n",
    "    # modify this function\n",
    "    # return value and parameters and all\n",
    "    return 0"
   ]
  },
  {
   "cell_type": "code",
   "execution_count": null,
   "metadata": {},
   "outputs": [],
   "source": [
    "BalazsJ.evaluate(BalazsJ_solution)"
   ]
  },
  {
   "cell_type": "markdown",
   "metadata": {},
   "source": [
    "## TompaM - kész"
   ]
  },
  {
   "cell_type": "code",
   "execution_count": 10,
   "metadata": {},
   "outputs": [],
   "source": [
    "def TompaM_solution(lista, szam):\n",
    "    lista = sorted(lista, reverse=True)\n",
    "    eredmeny = 0\n",
    "    for i in lista:\n",
    "        if (i / szam) % 2 == 0:\n",
    "            eredmeny = i\n",
    "            break\n",
    "    return eredmeny"
   ]
  },
  {
   "cell_type": "code",
   "execution_count": 11,
   "metadata": {},
   "outputs": [
    {
     "name": "stdout",
     "output_type": "stream",
     "text": [
      "- success rate: 497/497 (100.0%)\n",
      "- error count: 0\n",
      "- best performance: 1\n",
      "- worst performance: 1\n",
      "- mean performance: 1.0\n"
     ]
    }
   ],
   "source": [
    "TompaM.evaluate(TompaM_solution)"
   ]
  },
  {
   "cell_type": "markdown",
   "metadata": {},
   "source": [
    "## VelkeyA - kész"
   ]
  },
  {
   "cell_type": "code",
   "execution_count": 12,
   "metadata": {},
   "outputs": [],
   "source": [
    "def VelkeyA_solution(list_of_numbers):\n",
    "    szamok = sorted(list_of_numbers)\n",
    "    eredmeny = []\n",
    "    for i in szamok:\n",
    "        x = i * 2\n",
    "        for z in szamok:\n",
    "            if z == x:\n",
    "                eredmeny.append(i)\n",
    "    if eredmeny != []:\n",
    "        return eredmeny[0]\n",
    "    else:\n",
    "        return 0"
   ]
  },
  {
   "cell_type": "code",
   "execution_count": 13,
   "metadata": {},
   "outputs": [
    {
     "name": "stdout",
     "output_type": "stream",
     "text": [
      "- success rate: 497/497 (100.0%)\n",
      "- error count: 0\n",
      "- best performance: 1\n",
      "- worst performance: 1\n",
      "- mean performance: 1.0\n"
     ]
    }
   ],
   "source": [
    "VelkeyA.evaluate(VelkeyA_solution)"
   ]
  },
  {
   "cell_type": "markdown",
   "metadata": {},
   "source": [
    "## PapS - kész"
   ]
  },
  {
   "cell_type": "code",
   "execution_count": 9,
   "metadata": {
    "ExecuteTime": {
     "end_time": "2020-11-24T18:10:15.370982Z",
     "start_time": "2020-11-24T18:10:15.365780Z"
    }
   },
   "outputs": [],
   "source": [
    "def PapS_solution(list_of_words):\n",
    "    # modify this function\n",
    "    # return value and parameters and all\n",
    "    max_a = 0\n",
    "    max_a_index = -1\n",
    "    index_value = -1\n",
    "    for i in list_of_words:\n",
    "        index_value = index_value + 1\n",
    "        a_num = check(i.lower(), \"a\")\n",
    "        if a_num > max_a:\n",
    "            max_a = a_num\n",
    "            max_a_index = index_value\n",
    "    return max_a_index"
   ]
  },
  {
   "cell_type": "code",
   "execution_count": 10,
   "metadata": {
    "ExecuteTime": {
     "end_time": "2020-11-24T18:10:18.928503Z",
     "start_time": "2020-11-24T18:10:15.665259Z"
    }
   },
   "outputs": [
    {
     "name": "stdout",
     "output_type": "stream",
     "text": [
      "- success rate: 495/495 (100.0%)\n",
      "- error count: 0\n",
      "- best performance: 1\n",
      "- worst performance: 1\n",
      "- mean performance: 1.0\n"
     ]
    }
   ],
   "source": [
    "PapS.evaluate(PapS_solution)"
   ]
  },
  {
   "cell_type": "code",
   "execution_count": null,
   "metadata": {},
   "outputs": [],
   "source": []
  }
 ],
 "metadata": {
  "kernelspec": {
   "display_name": "Python 3",
   "language": "python",
   "name": "python3"
  },
  "language_info": {
   "codemirror_mode": {
    "name": "ipython",
    "version": 3
   },
   "file_extension": ".py",
   "mimetype": "text/x-python",
   "name": "python",
   "nbconvert_exporter": "python",
   "pygments_lexer": "ipython3",
   "version": "3.8.6"
  }
 },
 "nbformat": 4,
 "nbformat_minor": 2
}
