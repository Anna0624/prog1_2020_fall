{
 "cells": [
  {
   "cell_type": "markdown",
   "metadata": {},
   "source": [
    "### Mi a hiba az alábbi kódokban? Javítsd ki őket!"
   ]
  },
  {
   "cell_type": "markdown",
   "metadata": {},
   "source": [
    "#### Annyi jupyter tutor, ami ehhez a házihoz remélhetőleg elég lesz.\n",
    "\n",
    "- Úgy jelöltök ki cellát, hogy belekattintotok.\n",
    "- A kijelölt cellát a nagy RUN gombra kattinva tudjátok lefuttatni. Illeve a CTRL+ENTER és SHIFT+ENTER kombinációval. Az előbbi csak lefuttatja a kijelölt cellát, míg az utóbbi továbblép a következő cellára és azt jelöli ki.\n",
    "- Ha véletlenül örökké futna egy kódrészlet akkor a standard STOP gombbal állíthatjátok le a futást.\n",
    "- Ha ennél nagyobb a baj akkor a Kernel fül alatt Restartoljatok. \n",
    "- Illetve a változtatásaitokat menteni is kell standard Save gomb vagy CTRL+S."
   ]
  },
  {
   "cell_type": "markdown",
   "metadata": {},
   "source": [
    "#### #1"
   ]
  },
  {
   "cell_type": "code",
   "execution_count": 42,
   "metadata": {},
   "outputs": [
    {
     "name": "stdout",
     "output_type": "stream",
     "text": [
      "3\n"
     ]
    }
   ],
   "source": [
    "def egy():\n",
    "    l1 = [3, 5, 24, 9, 15, -4, 87]\n",
    "    l2 = [6, 17, 134, -11, 26, -1]\n",
    "\n",
    "    #A beépített len függvény egy iterálható objektum elemeinek számát adja visszatérési értékként.\n",
    "    #Pl. lista elemeinek száma\n",
    "    for n in range(len(l1)-1):\n",
    "\n",
    "        if l1[n] > l2[n]:\n",
    "            print(n)\n",
    "egy()"
   ]
  },
  {
   "cell_type": "markdown",
   "metadata": {},
   "source": [
    "#### #2"
   ]
  },
  {
   "cell_type": "code",
   "execution_count": 44,
   "metadata": {},
   "outputs": [
    {
     "data": {
      "text/plain": [
       "'semmi'"
      ]
     },
     "execution_count": 44,
     "metadata": {},
     "output_type": "execute_result"
    }
   ],
   "source": [
    "def ketto(x, y, z):\n",
    "    a = \"\"\n",
    "    if x + y > z and x + z > y and y + z > x:\n",
    "        a = 'háromszög'\n",
    "    \n",
    "    if a == 'háromszög':\n",
    "        return (x, y, z)\n",
    "    else:\n",
    "        return 'semmi'\n",
    "\n",
    "ketto(1,2,3)"
   ]
  },
  {
   "cell_type": "markdown",
   "metadata": {},
   "source": [
    "#### #3"
   ]
  },
  {
   "cell_type": "code",
   "execution_count": 51,
   "metadata": {},
   "outputs": [],
   "source": [
    "#ez egy elég sunyi megoldás, amugy megkéne cserélni az s-t mindehol k-val és fordítva.\n",
    "def harom():\n",
    "    k = 1\n",
    "    s = 0\n",
    "\n",
    "    while k <= 100:\n",
    "\n",
    "        if k % 2 == 0:\n",
    "            s = s + k\n",
    "        else:\n",
    "            break\n",
    "\n",
    "harom()"
   ]
  },
  {
   "cell_type": "markdown",
   "metadata": {},
   "source": [
    "#### #4"
   ]
  },
  {
   "cell_type": "code",
   "execution_count": 60,
   "metadata": {},
   "outputs": [],
   "source": [
    "def negy():\n",
    "    t = [0,1,4,3]\n",
    "\n",
    "    for i in range(len(t)):\n",
    "\n",
    "        if (len('alma') == len(t)) & (t[i] < 4):\n",
    "\n",
    "            None\n",
    "            \n",
    "negy()"
   ]
  },
  {
   "cell_type": "markdown",
   "metadata": {},
   "source": [
    "#### #5"
   ]
  },
  {
   "cell_type": "code",
   "execution_count": 92,
   "metadata": {},
   "outputs": [
    {
     "ename": "IndexError",
     "evalue": "list index out of range",
     "output_type": "error",
     "traceback": [
      "\u001b[1;31m---------------------------------------------------------------------------\u001b[0m",
      "\u001b[1;31mIndexError\u001b[0m                                Traceback (most recent call last)",
      "\u001b[1;32m<ipython-input-92-5ee908705666>\u001b[0m in \u001b[0;36m<module>\u001b[1;34m\u001b[0m\n\u001b[0;32m      2\u001b[0m \u001b[0mout\u001b[0m \u001b[1;33m=\u001b[0m \u001b[0mlist\u001b[0m\u001b[1;33m(\u001b[0m\u001b[1;33m)\u001b[0m\u001b[1;33m\u001b[0m\u001b[1;33m\u001b[0m\u001b[0m\n\u001b[0;32m      3\u001b[0m \u001b[0minput_lista\u001b[0m\u001b[1;33m[\u001b[0m\u001b[1;36m0\u001b[0m\u001b[1;33m]\u001b[0m\u001b[1;33m\u001b[0m\u001b[1;33m\u001b[0m\u001b[0m\n\u001b[1;32m----> 4\u001b[1;33m \u001b[0mout\u001b[0m\u001b[1;33m[\u001b[0m\u001b[1;36m0\u001b[0m\u001b[1;33m]\u001b[0m\u001b[1;33m\u001b[0m\u001b[1;33m\u001b[0m\u001b[0m\n\u001b[0m",
      "\u001b[1;31mIndexError\u001b[0m: list index out of range"
     ]
    }
   ],
   "source": [
    "input_lista = [112,4234,721,1002,5982,1035]\n",
    "out = list()\n",
    "input_lista[0]"
   ]
  },
  {
   "cell_type": "code",
   "execution_count": 95,
   "metadata": {},
   "outputs": [
    {
     "data": {
      "text/plain": [
       "[112]"
      ]
     },
     "execution_count": 95,
     "metadata": {},
     "output_type": "execute_result"
    }
   ],
   "source": [
    "def ot():\n",
    "    input_lista = [112,4234,721,1002,5982,1035]\n",
    "    out = []\n",
    "\n",
    "    for i in range(0,10):\n",
    "\n",
    "        if input_lista[i] < input_lista[i+1]:\n",
    "\n",
    "            out.append(input_lista[i])\n",
    "\n",
    "        return out\n",
    "\n",
    "ot()"
   ]
  },
  {
   "cell_type": "markdown",
   "metadata": {},
   "source": [
    "#### #6"
   ]
  },
  {
   "cell_type": "code",
   "execution_count": 96,
   "metadata": {},
   "outputs": [
    {
     "ename": "IndexError",
     "evalue": "list index out of range",
     "output_type": "error",
     "traceback": [
      "\u001b[1;31m---------------------------------------------------------------------------\u001b[0m",
      "\u001b[1;31mIndexError\u001b[0m                                Traceback (most recent call last)",
      "\u001b[1;32m<ipython-input-96-cd59dbaa2be9>\u001b[0m in \u001b[0;36m<module>\u001b[1;34m\u001b[0m\n\u001b[0;32m     12\u001b[0m             \u001b[1;34m'Error'\u001b[0m\u001b[1;33m\u001b[0m\u001b[1;33m\u001b[0m\u001b[0m\n\u001b[0;32m     13\u001b[0m \u001b[1;33m\u001b[0m\u001b[0m\n\u001b[1;32m---> 14\u001b[1;33m \u001b[0mhat\u001b[0m\u001b[1;33m(\u001b[0m\u001b[1;33m)\u001b[0m\u001b[1;33m\u001b[0m\u001b[1;33m\u001b[0m\u001b[0m\n\u001b[0m",
      "\u001b[1;32m<ipython-input-96-cd59dbaa2be9>\u001b[0m in \u001b[0;36mhat\u001b[1;34m()\u001b[0m\n\u001b[0;32m      2\u001b[0m     \u001b[0ml\u001b[0m \u001b[1;33m=\u001b[0m \u001b[1;33m[\u001b[0m\u001b[1;36m1\u001b[0m\u001b[1;33m,\u001b[0m\u001b[1;36m1\u001b[0m\u001b[1;33m,\u001b[0m\u001b[1;36m1\u001b[0m\u001b[1;33m,\u001b[0m\u001b[1;36m1\u001b[0m\u001b[1;33m,\u001b[0m\u001b[1;36m1\u001b[0m\u001b[1;33m]\u001b[0m\u001b[1;33m\u001b[0m\u001b[1;33m\u001b[0m\u001b[0m\n\u001b[0;32m      3\u001b[0m \u001b[1;33m\u001b[0m\u001b[0m\n\u001b[1;32m----> 4\u001b[1;33m     \u001b[1;32mwhile\u001b[0m \u001b[0ml\u001b[0m\u001b[1;33m[\u001b[0m\u001b[0mi\u001b[0m\u001b[1;33m]\u001b[0m \u001b[1;33m==\u001b[0m \u001b[1;36m1\u001b[0m\u001b[1;33m:\u001b[0m\u001b[1;33m\u001b[0m\u001b[1;33m\u001b[0m\u001b[0m\n\u001b[0m\u001b[0;32m      5\u001b[0m \u001b[1;33m\u001b[0m\u001b[0m\n\u001b[0;32m      6\u001b[0m         \u001b[1;32mif\u001b[0m \u001b[0ml\u001b[0m\u001b[1;33m[\u001b[0m\u001b[0mi\u001b[0m\u001b[1;33m+\u001b[0m\u001b[1;36m1\u001b[0m\u001b[1;33m]\u001b[0m \u001b[1;33m==\u001b[0m \u001b[0mi\u001b[0m\u001b[1;33m:\u001b[0m\u001b[1;33m\u001b[0m\u001b[1;33m\u001b[0m\u001b[0m\n",
      "\u001b[1;31mIndexError\u001b[0m: list index out of range"
     ]
    }
   ],
   "source": [
    "def hat():\n",
    "    l = [1,1,1,1,1]\n",
    "\n",
    "    while l[i] == 1:\n",
    "\n",
    "        if l[i+1] == i:\n",
    "\n",
    "            l[i] += 1\n",
    "\n",
    "        else:\n",
    "\n",
    "            'Error'\n",
    "            \n",
    "hat()"
   ]
  },
  {
   "cell_type": "markdown",
   "metadata": {},
   "source": [
    "#### #7"
   ]
  },
  {
   "cell_type": "code",
   "execution_count": 101,
   "metadata": {},
   "outputs": [
    {
     "data": {
      "text/plain": [
       "range(0, 10, 3)"
      ]
     },
     "execution_count": 101,
     "metadata": {},
     "output_type": "execute_result"
    }
   ],
   "source": [
    "(range(0, 10, 3))"
   ]
  },
  {
   "cell_type": "code",
   "execution_count": 102,
   "metadata": {},
   "outputs": [
    {
     "data": {
      "text/plain": [
       "5"
      ]
     },
     "execution_count": 102,
     "metadata": {},
     "output_type": "execute_result"
    }
   ],
   "source": [
    "def het():\n",
    "    genya = 0\n",
    "    \n",
    "    for i in range(0, 10, 5):\n",
    "        genya += i\n",
    "\n",
    "    return genya\n",
    "    \n",
    "het()"
   ]
  },
  {
   "cell_type": "markdown",
   "metadata": {},
   "source": [
    "#### #8"
   ]
  },
  {
   "cell_type": "code",
   "execution_count": 106,
   "metadata": {},
   "outputs": [
    {
     "data": {
      "text/plain": [
       "'kifogytam'"
      ]
     },
     "execution_count": 106,
     "metadata": {},
     "output_type": "execute_result"
    }
   ],
   "source": [
    "def nyolc():\n",
    "    banka = \"almamáter\"\n",
    "    tanga = \"\"\n",
    "    for lanka in banka:\n",
    "        if lanka > tanga:\n",
    "            tanga = lanka\n",
    "        else:\n",
    "            return \"kifogytam\"\n",
    "        \n",
    "    return tanga\n",
    "    \n",
    "nyolc()"
   ]
  },
  {
   "cell_type": "markdown",
   "metadata": {},
   "source": [
    "#### #9"
   ]
  },
  {
   "cell_type": "code",
   "execution_count": 120,
   "metadata": {},
   "outputs": [],
   "source": [
    "def kilenc():\n",
    "    árán = \"\"\n",
    "    száján = \"szárán\"\n",
    "    while len(árán) < 5:\n",
    "        árán = száján * 2\n",
    "        kárán = len(száján) // 3\n",
    "        \n",
    "        for bárány in száján:\n",
    "            if száján[kárán] == bárány:\n",
    "                álcám = True\n",
    "            else:\n",
    "                álcám = False\n",
    "        \n",
    "        if álcám:\n",
    "            lányán = False\n",
    "            fácán = True\n",
    "        else:\n",
    "            lányán = True\n",
    "            fácán = False\n",
    "        \n",
    "    if lányán:\n",
    "        árán += \"m\"\n",
    "    elif fácán:\n",
    "        árán += \"n\"\n",
    "    else:\n",
    "        hamutálcÁán = \"pusztulásán\"\n",
    "\n",
    "        return árán\n",
    "kilenc()"
   ]
  },
  {
   "cell_type": "code",
   "execution_count": null,
   "metadata": {},
   "outputs": [],
   "source": []
  }
 ],
 "metadata": {
  "kernelspec": {
   "display_name": "Python 3",
   "language": "python",
   "name": "python3"
  },
  "language_info": {
   "codemirror_mode": {
    "name": "ipython",
    "version": 3
   },
   "file_extension": ".py",
   "mimetype": "text/x-python",
   "name": "python",
   "nbconvert_exporter": "python",
   "pygments_lexer": "ipython3",
   "version": "3.8.6"
  }
 },
 "nbformat": 4,
 "nbformat_minor": 4
}
