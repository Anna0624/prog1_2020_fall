{
 "cells": [
  {
   "cell_type": "code",
   "execution_count": 222,
   "metadata": {},
   "outputs": [],
   "source": [
    "tiszta_anyad = list()\n",
    "for szam in anyad:\n",
    "    tiszta_anyad.append(float(szam.replace(\"\\n\",\"\")))\n",
    "\n"
   ]
  },
  {
   "cell_type": "code",
   "execution_count": 220,
   "metadata": {},
   "outputs": [],
   "source": [
    "import pandas as pd\n",
    "with open(\"input.txt\") as anyad:\n",
    "    anyad = anyad.readlines()\n",
    "tiszta_anyad = pd.Series(anyad).str.replace(\"\\n\",\"\").astype(int).to_list()"
   ]
  },
  {
   "cell_type": "code",
   "execution_count": 221,
   "metadata": {},
   "outputs": [
    {
     "name": "stdout",
     "output_type": "stream",
     "text": [
      "3511949.0\n"
     ]
    }
   ],
   "source": [
    "szar = sum (float(suly//3-2) for suly in tiszta_anyad)\n",
    "     \n",
    "print (szar)"
   ]
  }
 ],
 "metadata": {
  "kernelspec": {
   "display_name": "Python 3",
   "language": "python",
   "name": "python3"
  },
  "language_info": {
   "codemirror_mode": {
    "name": "ipython",
    "version": 3
   },
   "file_extension": ".py",
   "mimetype": "text/x-python",
   "name": "python",
   "nbconvert_exporter": "python",
   "pygments_lexer": "ipython3",
   "version": "3.8.5"
  }
 },
 "nbformat": 4,
 "nbformat_minor": 4
}
