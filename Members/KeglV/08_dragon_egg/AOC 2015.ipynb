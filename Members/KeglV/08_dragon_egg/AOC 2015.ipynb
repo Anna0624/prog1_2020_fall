{
 "cells": [
  {
   "cell_type": "code",
   "execution_count": 6,
   "metadata": {
    "scrolled": true
   },
   "outputs": [
    {
     "name": "stdout",
     "output_type": "stream",
     "text": [
      "ide menjél Mikulás: 232\n"
     ]
    }
   ],
   "source": [
    "import re\n",
    "\n",
    "input_string = 'input.txt'\n",
    "\n",
    "with open(input_string, 'r') as input_file:\n",
    "    for line in input_file:\n",
    "\n",
    "        open_parens = re.findall(r'\\(', line)\n",
    "        close_parens = re.findall(r'\\)',line)\n",
    "\n",
    "        open_parens_count = len(open_parens)\n",
    "        close_parens_count = len(close_parens)\n",
    "\n",
    "        floor = open_parens_count - close_parens_count\n",
    "        print(\"ide menjél Mikulás: \" + str(floor))\n",
    "\n",
    "input_file.close()\n",
    "   "
   ]
  },
  {
   "cell_type": "code",
   "execution_count": null,
   "metadata": {},
   "outputs": [],
   "source": []
  }
 ],
 "metadata": {
  "kernelspec": {
   "display_name": "Python 3",
   "language": "python",
   "name": "python3"
  },
  "language_info": {
   "codemirror_mode": {
    "name": "ipython",
    "version": 3
   },
   "file_extension": ".py",
   "mimetype": "text/x-python",
   "name": "python",
   "nbconvert_exporter": "python",
   "pygments_lexer": "ipython3",
   "version": "3.8.5"
  }
 },
 "nbformat": 4,
 "nbformat_minor": 4
}
