{
 "cells": [
  {
   "cell_type": "code",
   "execution_count": null,
   "metadata": {},
   "outputs": [],
   "source": [
    "#find the two numbers in a list that produce the highest number as their multiple\n",
    "#the numbers have to be two different numbers in the list, but if the same number occurs in the list twice, it can be used twice. return the result of the multiplications.\n",
    "\n",
    "#[1, 2, 3] -> 6"
   ]
  },
  {
   "cell_type": "code",
   "execution_count": null,
   "metadata": {},
   "outputs": [],
   "source": [
    "from jkg_evaluators import largest_multiple"
   ]
  },
  {
   "cell_type": "code",
   "execution_count": 1,
   "metadata": {},
   "outputs": [],
   "source": [
    "def find_largest_multiple(list_of_numbers):\n",
    "     \n",
    "    list_of_numbers = [] \n",
    "\n",
    "    \n",
    "    n = int(input(\"Enter number of elements : \")) \n",
    "\n",
    "    \n",
    "    for i in range(0, n): \n",
    "        ele = int(input()) \n",
    "\n",
    "        list_of_numbers.append(ele) \n",
    " \n",
    "    \n",
    "    print(\"that's it:\", list1[-2] * list1[-1])\n",
    "    \n",
    "    \n",
    "    return 0"
   ]
  },
  {
   "cell_type": "code",
   "execution_count": null,
   "metadata": {},
   "outputs": [],
   "source": [
    "largest_multiple.evaluate(find_largest_multiple)"
   ]
  },
  {
   "cell_type": "code",
   "execution_count": null,
   "metadata": {},
   "outputs": [],
   "source": []
  }
 ],
 "metadata": {
  "kernelspec": {
   "display_name": "Python 3",
   "language": "python",
   "name": "python3"
  },
  "language_info": {
   "codemirror_mode": {
    "name": "ipython",
    "version": 3
   },
   "file_extension": ".py",
   "mimetype": "text/x-python",
   "name": "python",
   "nbconvert_exporter": "python",
   "pygments_lexer": "ipython3",
   "version": "3.9.0"
  }
 },
 "nbformat": 4,
 "nbformat_minor": 4
}
