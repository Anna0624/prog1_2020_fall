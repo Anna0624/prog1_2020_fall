{
 "metadata": {
  "language_info": {
   "codemirror_mode": {
    "name": "ipython",
    "version": 3
   },
   "file_extension": ".py",
   "mimetype": "text/x-python",
   "name": "python",
   "nbconvert_exporter": "python",
   "pygments_lexer": "ipython3",
   "version": "3.8.2-final"
  },
  "orig_nbformat": 2,
  "kernelspec": {
   "name": "Python 3.8.2 64-bit",
   "display_name": "Python 3.8.2 64-bit",
   "metadata": {
    "interpreter": {
     "hash": "31f2aee4e71d21fbe5cf8b01ff0e069b9275f58929596ceb00d14d90e3e16cd6"
    }
   }
  }
 },
 "nbformat": 4,
 "nbformat_minor": 2,
 "cells": [
  {
   "cell_type": "code",
   "execution_count": 1,
   "metadata": {},
   "outputs": [
    {
     "output_type": "stream",
     "name": "stdout",
     "text": [
      "Requirement already satisfied: jkg_evaluators in /Users/andor/Library/Python/3.8/lib/python/site-packages (0.0.3)\n",
      "Requirement already satisfied: unidecode in /Users/andor/Library/Python/3.8/lib/python/site-packages (from jkg_evaluators) (1.1.1)\n",
      "Requirement already satisfied: matplotlib in /Users/andor/Library/Python/3.8/lib/python/site-packages (from jkg_evaluators) (3.3.2)\n",
      "Requirement already satisfied: pandas in /Users/andor/Library/Python/3.8/lib/python/site-packages (from jkg_evaluators) (1.1.3)\n",
      "Requirement already satisfied: pyyaml in /Users/andor/Library/Python/3.8/lib/python/site-packages (from jkg_evaluators) (5.3.1)\n",
      "Requirement already satisfied: certifi>=2020.06.20 in /Users/andor/Library/Python/3.8/lib/python/site-packages (from matplotlib->jkg_evaluators) (2020.6.20)\n",
      "Requirement already satisfied: pyparsing!=2.0.4,!=2.1.2,!=2.1.6,>=2.0.3 in /Users/andor/Library/Python/3.8/lib/python/site-packages (from matplotlib->jkg_evaluators) (2.4.7)\n",
      "Requirement already satisfied: python-dateutil>=2.1 in /Users/andor/Library/Python/3.8/lib/python/site-packages (from matplotlib->jkg_evaluators) (2.8.1)\n",
      "Requirement already satisfied: pillow>=6.2.0 in /Users/andor/Library/Python/3.8/lib/python/site-packages (from matplotlib->jkg_evaluators) (8.0.1)\n",
      "Requirement already satisfied: cycler>=0.10 in /Users/andor/Library/Python/3.8/lib/python/site-packages (from matplotlib->jkg_evaluators) (0.10.0)\n",
      "Requirement already satisfied: numpy>=1.15 in /Users/andor/Library/Python/3.8/lib/python/site-packages (from matplotlib->jkg_evaluators) (1.19.2)\n",
      "Requirement already satisfied: kiwisolver>=1.0.1 in /Users/andor/Library/Python/3.8/lib/python/site-packages (from matplotlib->jkg_evaluators) (1.3.0)\n",
      "Requirement already satisfied: pytz>=2017.2 in /Users/andor/Library/Python/3.8/lib/python/site-packages (from pandas->jkg_evaluators) (2020.1)\n",
      "Requirement already satisfied: six>=1.5 in /Library/Developer/CommandLineTools/Library/Frameworks/Python3.framework/Versions/3.8/lib/python3.8/site-packages (from python-dateutil>=2.1->matplotlib->jkg_evaluators) (1.15.0)\n",
      "Note: you may need to restart the kernel to use updated packages.\n"
     ]
    }
   ],
   "source": [
    "pip install jkg_evaluators --user"
   ]
  },
  {
   "cell_type": "code",
   "execution_count": 2,
   "metadata": {},
   "outputs": [
    {
     "output_type": "stream",
     "name": "stdout",
     "text": [
      "Requirement already up-to-date: pip in /Users/andor/Library/Python/3.8/lib/python/site-packages (20.2.4)\n",
      "Note: you may need to restart the kernel to use updated packages.\n"
     ]
    }
   ],
   "source": [
    "pip install --upgrade pip --user"
   ]
  },
  {
   "cell_type": "code",
   "execution_count": 3,
   "metadata": {},
   "outputs": [],
   "source": [
    "from jkg_evaluators import eggdrop_100floor_2egg"
   ]
  },
  {
   "cell_type": "code",
   "execution_count": 46,
   "metadata": {},
   "outputs": [],
   "source": [
    "def eggie(breaks):\n",
    "    start = 14\n",
    "    step = 13\n",
    "    prev = 0\n",
    "    level = start + step\n",
    "\n",
    "    if breaks(start):\n",
    "        for i in range(start + 1):\n",
    "            if breaks(i) == True:\n",
    "                return i - 1\n",
    "    else:\n",
    "        while True:\n",
    "            prev = level - step\n",
    "            if breaks(level):\n",
    "                for i in range(prev, level + 1):\n",
    "                    if breaks(i) == True:\n",
    "                        return i - 1\n",
    "            level = level + step\n",
    "            step = step - 1"
   ]
  },
  {
   "cell_type": "code",
   "execution_count": 47,
   "metadata": {},
   "outputs": [
    {
     "output_type": "stream",
     "name": "stdout",
     "text": [
      "- success rate: 101/101 (100.0%)\n- error count: 0\n- best performance: 3\n- worst performance: 16\n- mean performance: 10.930693069306932\n"
     ]
    }
   ],
   "source": [
    "eggdrop_100floor_2egg.evaluate(eggie)"
   ]
  },
  {
   "cell_type": "code",
   "execution_count": null,
   "metadata": {},
   "outputs": [],
   "source": []
  }
 ]
}