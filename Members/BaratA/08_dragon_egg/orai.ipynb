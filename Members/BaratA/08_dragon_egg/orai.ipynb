{
 "metadata": {
  "language_info": {
   "codemirror_mode": {
    "name": "ipython",
    "version": 3
   },
   "file_extension": ".py",
   "mimetype": "text/x-python",
   "name": "python",
   "nbconvert_exporter": "python",
   "pygments_lexer": "ipython3",
   "version": "3.8.2-final"
  },
  "orig_nbformat": 2,
  "kernelspec": {
   "name": "Python 3.8.2 64-bit",
   "display_name": "Python 3.8.2 64-bit",
   "metadata": {
    "interpreter": {
     "hash": "31f2aee4e71d21fbe5cf8b01ff0e069b9275f58929596ceb00d14d90e3e16cd6"
    }
   }
  }
 },
 "nbformat": 4,
 "nbformat_minor": 2,
 "cells": [
  {
   "cell_type": "code",
   "execution_count": 2,
   "metadata": {},
   "outputs": [
    {
     "output_type": "stream",
     "name": "stdout",
     "text": [
      "Collecting jkg_evaluators\n",
      "Collecting unidecode (from jkg_evaluators)\n",
      "  Using cached https://files.pythonhosted.org/packages/d0/42/d9edfed04228bacea2d824904cae367ee9efd05e6cce7ceaaedd0b0ad964/Unidecode-1.1.1-py2.py3-none-any.whl\n",
      "Collecting pyyaml (from jkg_evaluators)\n",
      "  Using cached https://files.pythonhosted.org/packages/64/c2/b80047c7ac2478f9501676c988a5411ed5572f35d1beff9cae07d321512c/PyYAML-5.3.1.tar.gz\n",
      "Collecting pandas (from jkg_evaluators)\n",
      "  Using cached https://files.pythonhosted.org/packages/30/09/3c2ee77531dc30d4265d1f148d08d283de2d57fdd00745a9b367137d54ac/pandas-1.1.3-cp38-cp38-macosx_10_9_x86_64.whl\n",
      "Collecting matplotlib (from jkg_evaluators)\n",
      "  Using cached https://files.pythonhosted.org/packages/fe/5c/ff4504d79a62aa94dda72ba6a4de483cf44ca364f406ab8a7c86d7db9bab/matplotlib-3.3.2-cp38-cp38-macosx_10_9_x86_64.whl\n",
      "Collecting pytz>=2017.2 (from pandas->jkg_evaluators)\n",
      "  Using cached https://files.pythonhosted.org/packages/4f/a4/879454d49688e2fad93e59d7d4efda580b783c745fd2ec2a3adf87b0808d/pytz-2020.1-py2.py3-none-any.whl\n",
      "Collecting numpy>=1.15.4 (from pandas->jkg_evaluators)\n",
      "  Using cached https://files.pythonhosted.org/packages/33/1a/d10d1c23d21c289a3e87e751a9daf0907e91665cab08d0c35033fd4f5b55/numpy-1.19.2-cp38-cp38-macosx_10_9_x86_64.whl\n",
      "Requirement already satisfied: python-dateutil>=2.7.3 in /Users/andor/Library/Python/3.8/lib/python/site-packages (from pandas->jkg_evaluators) (2.8.1)\n",
      "Collecting pyparsing!=2.0.4,!=2.1.2,!=2.1.6,>=2.0.3 (from matplotlib->jkg_evaluators)\n",
      "  Using cached https://files.pythonhosted.org/packages/8a/bb/488841f56197b13700afd5658fc279a2025a39e22449b7cf29864669b15d/pyparsing-2.4.7-py2.py3-none-any.whl\n",
      "Collecting pillow>=6.2.0 (from matplotlib->jkg_evaluators)\n",
      "  Using cached https://files.pythonhosted.org/packages/b2/99/219de493bf9bda6e36e52bded5771a42ed68d5731c715518a2d771b9b2a1/Pillow-8.0.1-cp38-cp38-macosx_10_10_x86_64.whl\n",
      "Collecting kiwisolver>=1.0.1 (from matplotlib->jkg_evaluators)\n",
      "  Using cached https://files.pythonhosted.org/packages/50/36/04e454e0b221b86b2ad9ed83042e269df03ef133c77cbe079ffc60597593/kiwisolver-1.3.0-cp38-cp38-macosx_10_9_x86_64.whl\n",
      "Collecting certifi>=2020.06.20 (from matplotlib->jkg_evaluators)\n",
      "  Using cached https://files.pythonhosted.org/packages/5e/c4/6c4fe722df5343c33226f0b4e0bb042e4dc13483228b4718baf286f86d87/certifi-2020.6.20-py2.py3-none-any.whl\n",
      "Collecting cycler>=0.10 (from matplotlib->jkg_evaluators)\n",
      "  Using cached https://files.pythonhosted.org/packages/f7/d2/e07d3ebb2bd7af696440ce7e754c59dd546ffe1bbe732c8ab68b9c834e61/cycler-0.10.0-py2.py3-none-any.whl\n",
      "Requirement already satisfied: six>=1.5 in /Library/Developer/CommandLineTools/Library/Frameworks/Python3.framework/Versions/3.8/lib/python3.8/site-packages (from python-dateutil>=2.7.3->pandas->jkg_evaluators) (1.15.0)\n",
      "Building wheels for collected packages: pyyaml\n",
      "  Building wheel for pyyaml (setup.py) ... \u001b[?25ldone\n",
      "\u001b[?25h  Created wheel for pyyaml: filename=PyYAML-5.3.1-cp38-cp38-macosx_10_14_6_x86_64.whl size=44627 sha256=18212cfb388a9a78dbb45a185710921170be58726cbcde331d6d8c3c92d93200\n",
      "  Stored in directory: /Users/andor/Library/Caches/pip/wheels/a7/c1/ea/cf5bd31012e735dc1dfea3131a2d5eae7978b251083d6247bd\n",
      "Successfully built pyyaml\n",
      "Installing collected packages: unidecode, pyyaml, pytz, numpy, pandas, pyparsing, pillow, kiwisolver, certifi, cycler, matplotlib, jkg-evaluators\n",
      "\u001b[33m  WARNING: The script unidecode is installed in '/Users/andor/Library/Python/3.8/bin' which is not on PATH.\n",
      "  Consider adding this directory to PATH or, if you prefer to suppress this warning, use --no-warn-script-location.\u001b[0m\n",
      "\u001b[33m  WARNING: The scripts f2py, f2py3 and f2py3.8 are installed in '/Users/andor/Library/Python/3.8/bin' which is not on PATH.\n",
      "  Consider adding this directory to PATH or, if you prefer to suppress this warning, use --no-warn-script-location.\u001b[0m\n",
      "Successfully installed certifi-2020.6.20 cycler-0.10.0 jkg-evaluators-0.0.3 kiwisolver-1.3.0 matplotlib-3.3.2 numpy-1.19.2 pandas-1.1.3 pillow-8.0.1 pyparsing-2.4.7 pytz-2020.1 pyyaml-5.3.1 unidecode-1.1.1\n",
      "\u001b[33mWARNING: You are using pip version 19.2.3, however version 20.2.4 is available.\n",
      "You should consider upgrading via the 'pip install --upgrade pip' command.\u001b[0m\n",
      "Note: you may need to restart the kernel to use updated packages.\n"
     ]
    }
   ],
   "source": [
    "pip install jkg_evaluators --user"
   ]
  },
  {
   "cell_type": "code",
   "execution_count": 3,
   "metadata": {},
   "outputs": [],
   "source": [
    "from jkg_evaluators import dragonfind_10_to_500"
   ]
  },
  {
   "cell_type": "code",
   "execution_count": 4,
   "metadata": {},
   "outputs": [],
   "source": [
    "def my_solution1(is_dead,\n",
    "                 number_of_cows):\n",
    "\n",
    "    for i in range(1, number_of_cows):\n",
    "        if not is_dead(i):\n",
    "            return i"
   ]
  },
  {
   "cell_type": "code",
   "execution_count": 5,
   "metadata": {},
   "outputs": [
    {
     "output_type": "stream",
     "name": "stdout",
     "text": [
      "- success rate: 124714/124714 (100.0%)\n- error count: 0\n- best performance: 1\n- worst performance: 499\n- mean performance: 167.04724409448818\n"
     ]
    }
   ],
   "source": [
    "dragonfind_10_to_500.evaluate(my_solution1)"
   ]
  },
  {
   "cell_type": "code",
   "execution_count": 52,
   "metadata": {},
   "outputs": [],
   "source": [
    "def dragon01(is_dead,number_of_cows):\n",
    "    high = number_of_cows\n",
    "    low = 1\n",
    "    \n",
    "    while high - low != 1:\n",
    "        target = (high - low) // 2 + low\n",
    "\n",
    "        if is_dead(target):\n",
    "            low = target\n",
    "        else:\n",
    "            high = target\n",
    "\n",
    "    return high  \n",
    "\n",
    "\n",
    "\n",
    "            \n",
    "\n"
   ]
  },
  {
   "cell_type": "code",
   "execution_count": 53,
   "metadata": {},
   "outputs": [
    {
     "output_type": "stream",
     "name": "stdout",
     "text": [
      "- success rate: 124223/124714 (100.0%)\n- error count: 0\n- best performance: 3\n- worst performance: 9\n- mean performance: 8.297977773144956\n\n\n BAD SOLUTION at: \n {'number_of_cows': 10, 'dragon_coming_to': 1}\n\n\n BAD SOLUTION at: \n {'number_of_cows': 11, 'dragon_coming_to': 1}\n\n\n BAD SOLUTION at: \n {'number_of_cows': 12, 'dragon_coming_to': 1}\n\n\n BAD SOLUTION at: \n {'number_of_cows': 13, 'dragon_coming_to': 1}\n\n\n BAD SOLUTION at: \n {'number_of_cows': 14, 'dragon_coming_to': 1}\n\n\n BAD SOLUTION at: \n {'number_of_cows': 15, 'dragon_coming_to': 1}\n\n\n BAD SOLUTION at: \n {'number_of_cows': 16, 'dragon_coming_to': 1}\n\n\n BAD SOLUTION at: \n {'number_of_cows': 17, 'dragon_coming_to': 1}\n\n\n BAD SOLUTION at: \n {'number_of_cows': 18, 'dragon_coming_to': 1}\n\n\n BAD SOLUTION at: \n {'number_of_cows': 19, 'dragon_coming_to': 1}\n"
     ]
    }
   ],
   "source": [
    "dragonfind_10_to_500.evaluate(dragon01)"
   ]
  },
  {
   "cell_type": "code",
   "execution_count": 3,
   "metadata": {},
   "outputs": [],
   "source": [
    "from jkg_evaluators import eggdrop_100floor_2egg"
   ]
  },
  {
   "cell_type": "code",
   "execution_count": 11,
   "metadata": {},
   "outputs": [],
   "source": [
    "def egg(breaks):\n",
    "    high = 100\n",
    "    low = 1\n",
    "    \n",
    "    for i in range(1, 100):\n",
    "        target = (high - low) // 2 + low\n",
    "\n",
    "        if breaks(i):\n",
    "            return i - 1\n",
    "        else:\n",
    "            high = target\n",
    "\n",
    "    #return high  "
   ]
  },
  {
   "cell_type": "code",
   "execution_count": 12,
   "metadata": {},
   "outputs": [
    {
     "output_type": "stream",
     "name": "stdout",
     "text": [
      "- success rate: 99/101 (98.0%)\n- error count: 0\n- best performance: 1\n- worst performance: 99\n- mean performance: 50.97029702970297\n\n\n BAD SOLUTION at: \n {'egg_count': 2, 'floor_count': 100, 'max_floor': 99}\n\n\n BAD SOLUTION at: \n {'egg_count': 2, 'floor_count': 100, 'max_floor': 100}\n"
     ]
    }
   ],
   "source": [
    "eggdrop_100floor_2egg.evaluate(egg)"
   ]
  },
  {
   "cell_type": "code",
   "execution_count": 17,
   "metadata": {},
   "outputs": [
    {
     "output_type": "error",
     "ename": "SyntaxError",
     "evalue": "invalid syntax (<ipython-input-17-d7549b45180c>, line 1)",
     "traceback": [
      "\u001b[0;36m  File \u001b[0;32m\"<ipython-input-17-d7549b45180c>\"\u001b[0;36m, line \u001b[0;32m1\u001b[0m\n\u001b[0;31m    if = 3\u001b[0m\n\u001b[0m       ^\u001b[0m\n\u001b[0;31mSyntaxError\u001b[0m\u001b[0;31m:\u001b[0m invalid syntax\n"
     ]
    }
   ],
   "source": [
    "if = 3"
   ]
  },
  {
   "cell_type": "code",
   "execution_count": null,
   "metadata": {},
   "outputs": [],
   "source": []
  }
 ]
}