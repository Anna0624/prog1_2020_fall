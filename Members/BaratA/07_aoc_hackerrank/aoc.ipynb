{
 "metadata": {
  "language_info": {
   "codemirror_mode": {
    "name": "ipython",
    "version": 3
   },
   "file_extension": ".py",
   "mimetype": "text/x-python",
   "name": "python",
   "nbconvert_exporter": "python",
   "pygments_lexer": "ipython3",
   "version": "3.8.2-final"
  },
  "orig_nbformat": 2,
  "kernelspec": {
   "name": "Python 3.8.2 64-bit",
   "display_name": "Python 3.8.2 64-bit",
   "metadata": {
    "interpreter": {
     "hash": "31f2aee4e71d21fbe5cf8b01ff0e069b9275f58929596ceb00d14d90e3e16cd6"
    }
   }
  }
 },
 "nbformat": 4,
 "nbformat_minor": 2,
 "cells": [
  {
   "cell_type": "code",
   "execution_count": 32,
   "metadata": {},
   "outputs": [],
   "source": [
    "#2015/1"
   ]
  },
  {
   "cell_type": "code",
   "execution_count": 33,
   "metadata": {},
   "outputs": [],
   "source": [
    "with open('input.txt') as sr:\n",
    "    l = sr.read()"
   ]
  },
  {
   "cell_type": "code",
   "execution_count": 34,
   "metadata": {},
   "outputs": [],
   "source": [
    "def szint(l):\n",
    "    fel = 0\n",
    "    le = 0\n",
    "    ossz = 0\n",
    "    for i in range(len(l)):\n",
    "        if l[i] == \"(\":\n",
    "            fel += 1\n",
    "        elif l[i] == \")\":\n",
    "            le += 1\n",
    "    ossz = fel - le\n",
    "    #return ossz\n",
    "    print(ossz)"
   ]
  },
  {
   "cell_type": "code",
   "execution_count": 35,
   "metadata": {},
   "outputs": [
    {
     "output_type": "stream",
     "name": "stdout",
     "text": [
      "280\n"
     ]
    }
   ],
   "source": [
    "szint(l)"
   ]
  },
  {
   "cell_type": "code",
   "execution_count": 36,
   "metadata": {},
   "outputs": [],
   "source": [
    "#2015/2"
   ]
  },
  {
   "cell_type": "code",
   "execution_count": 92,
   "metadata": {},
   "outputs": [],
   "source": [
    "def pos(l):\n",
    "    fel = 0\n",
    "    le = 0\n",
    "    mak = 0\n",
    "    for i in range(len(l)):\n",
    "        if l[i] == \"(\":\n",
    "            fel += 1\n",
    "        elif l[i] == \")\":\n",
    "            le += 1\n",
    "        mak = fel - le\n",
    "        if mak < 0:\n",
    "            return i + 1\n",
    "    print(i+1)\n",
    "    "
   ]
  },
  {
   "cell_type": "code",
   "execution_count": 93,
   "metadata": {
    "tags": []
   },
   "outputs": [
    {
     "output_type": "execute_result",
     "data": {
      "text/plain": [
       "1797"
      ]
     },
     "metadata": {},
     "execution_count": 93
    }
   ],
   "source": [
    "pos(l)"
   ]
  },
  {
   "cell_type": "code",
   "execution_count": 94,
   "metadata": {},
   "outputs": [
    {
     "output_type": "stream",
     "name": "stdout",
     "text": [
      "0\n1\n2\n3\n4\n5\n6\n7\n8\n9\n"
     ]
    }
   ],
   "source": [
    "for i in range(0,10,1):\n",
    "    index = i\n",
    "    print(index)"
   ]
  },
  {
   "cell_type": "code",
   "execution_count": 101,
   "metadata": {},
   "outputs": [],
   "source": [
    "#2019/1.  divide 3 - round down - substract 2"
   ]
  },
  {
   "cell_type": "code",
   "execution_count": 105,
   "metadata": {},
   "outputs": [],
   "source": [
    "with open('input2.txt') as sr:\n",
    "    k = sr.read()"
   ]
  },
  {
   "cell_type": "code",
   "execution_count": 124,
   "metadata": {},
   "outputs": [],
   "source": [
    "def fuel(k):\n",
    "    base = [int(x) for x in k.split()]\n",
    "    calc = []\n",
    "    ph = 0\n",
    "    sum = 0\n",
    "\n",
    "    for i in range(len(base)):\n",
    "        ph = base[i]\n",
    "        ph = ph/3\n",
    "        ph = int(ph)\n",
    "        ph = ph - 2\n",
    "        calc.append(ph)\n",
    "    \n",
    "    for j in range(len(calc)):\n",
    "        sum += calc[j]\n",
    "    \n",
    "    print(sum)        "
   ]
  },
  {
   "cell_type": "code",
   "execution_count": 125,
   "metadata": {},
   "outputs": [
    {
     "output_type": "stream",
     "name": "stdout",
     "text": [
      "3363033\n"
     ]
    }
   ],
   "source": [
    "fuel(k)"
   ]
  },
  {
   "cell_type": "code",
   "execution_count": null,
   "metadata": {},
   "outputs": [],
   "source": [
    "#2019/2"
   ]
  },
  {
   "cell_type": "code",
   "execution_count": 5,
   "metadata": {},
   "outputs": [],
   "source": [
    "with open('input2.txt') as sr:\n",
    "    k = sr.read()"
   ]
  },
  {
   "cell_type": "code",
   "execution_count": null,
   "metadata": {},
   "outputs": [],
   "source": [
    "#def fuel_calc(k):\n"
   ]
  },
  {
   "cell_type": "code",
   "execution_count": 42,
   "metadata": {},
   "outputs": [],
   "source": [
    "def fuel_plus(k):\n",
    "    base = [int(x) for x in k.split()]\n",
    "    add = []\n",
    "    calc = []\n",
    "    ph = 0\n",
    "    ph2 = 0\n",
    "    sum = 0\n",
    "    sum2 = 0\n",
    "\n",
    "    for i in range(len(base)):\n",
    "        ph = base[i]\n",
    "        ph = int(ph/3) - 2\n",
    "\n",
    "        if ph >= 9:\n",
    "            add.clear()\n",
    "            add.append(ph)\n",
    "            while ph >= 9:            \n",
    "                ph2 = ph\n",
    "                ph2 = int(ph2/3) - 2\n",
    "                add.append(ph2)\n",
    "                ph = ph2\n",
    "            for j in range(len(add)):\n",
    "                sum2 += add[j]\n",
    "            ph = 0\n",
    "            ph2 = 0\n",
    "            \n",
    "            \n",
    "            \n",
    "        else:\n",
    "            sum += ph\n",
    "        \n",
    "        sum += sum2\n",
    "        sum2 = 0 #40k 2\n",
    "\n",
    "    print(sum)"
   ]
  },
  {
   "cell_type": "code",
   "execution_count": 43,
   "metadata": {},
   "outputs": [
    {
     "output_type": "stream",
     "name": "stdout",
     "text": [
      "5041680\n"
     ]
    }
   ],
   "source": [
    "fuel_plus(k)"
   ]
  },
  {
   "cell_type": "code",
   "execution_count": 44,
   "metadata": {},
   "outputs": [],
   "source": [
    "#253633685"
   ]
  }
 ]
}