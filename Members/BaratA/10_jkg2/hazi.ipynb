{
 "metadata": {
  "language_info": {
   "codemirror_mode": {
    "name": "ipython",
    "version": 3
   },
   "file_extension": ".py",
   "mimetype": "text/x-python",
   "name": "python",
   "nbconvert_exporter": "python",
   "pygments_lexer": "ipython3",
   "version": "3.8.2-final"
  },
  "orig_nbformat": 2,
  "kernelspec": {
   "name": "python3",
   "display_name": "Python 3.8.2 64-bit",
   "metadata": {
    "interpreter": {
     "hash": "31f2aee4e71d21fbe5cf8b01ff0e069b9275f58929596ceb00d14d90e3e16cd6"
    }
   }
  }
 },
 "nbformat": 4,
 "nbformat_minor": 2,
 "cells": [
  {
   "cell_type": "code",
   "execution_count": null,
   "metadata": {},
   "outputs": [],
   "source": [
    "#KeglVirag\n",
    "#Definiáljuk a függvényt:\n",
    "#Az első lépésben deklaráljuk az \"a\" változót\n",
    "#Az \"a\" változónak értéket adunk, az adott érték a függvény paramétere lesz sorbarendezve\n",
    "#A második lépésben összehasonlítjuk az \"a\" értékeit\n",
    "#Az összehasonlítás alapja a listában elfoglalt hely lesz\n",
    "#A lista jobb és bal szélét nézzük meg, Egyszerre két értéket vizsgálunk\n",
    "#A vizsgált értékeket összeszorozzuk egymással\n",
    "#A lista jobb és bal szélét nézzük meg\n",
    "#Amelyik oldal nagyobb értéket vesz fel, azt keressük\n",
    "#Return a nagyobb érték lesz\n"
   ]
  },
  {
   "cell_type": "code",
   "execution_count": null,
   "metadata": {},
   "outputs": [],
   "source": [
    "def kegl(input):\n",
    "    a = input\n",
    "    for i in a:\n",
    "#EZ MEG NAGYON NINCS KESZ, DE KB NEM LEHET ERTENI, HOGY MIT KELLENE CSINALNI / LET'S MOVE ON FOR NOW"
   ]
  },
  {
   "cell_type": "code",
   "execution_count": null,
   "metadata": {},
   "outputs": [],
   "source": [
    "#Artúr\n",
    "#Definiálok egy függvényt, aminek egy lista a paramétere, a következőkben ennek a függvénynek definícióját jellemzem:\n",
    "#Deklarálok egy A nevű listát és annak a listának értéket adok úgy hogy, meghívom a sorted függvényt a bemeneteli listára.\n",
    "#Ezután deklarálok egy új még üres B nevű listát.\n",
    "#Iterációt hajtok végre az A lista tagjain. Az iteráció ciklusmagjában deklarálok és értéket adok egy X nevű változónak, ami a lista éppen soron lévő tagjának duplája. Ezután mégegyszer végig iterálok az A listán, a második iteráció ciklusmagjában egy logikai vizsgálatot hajtok végre, amennyiben a második iterációban az adott tag egyenlő az X értékével, akkor a B listára meghívom az append függvényt, paraméterként az X/2 -vel. Ezzel vége a két iterációs ciklusnak.\n",
    "#Most létrehozok egy elágazást, az egyik oldalon azzal, hogy amennyiben a B lista nem üres, akkor a függvény visszatérési értéke a B lista első tagja, amennyiben ez nem áll fenn, akkor 0.\n"
   ]
  },
  {
   "cell_type": "code",
   "execution_count": 29,
   "metadata": {},
   "outputs": [],
   "source": [
    "from jkg_evaluators import smallest_where_double_also"
   ]
  },
  {
   "cell_type": "code",
   "execution_count": 42,
   "metadata": {},
   "outputs": [],
   "source": [
    "def artur(lista):\n",
    "    a = sorted(lista)\n",
    "    b = []\n",
    "    for i in range(len(a)):\n",
    "        x = a[i]*2\n",
    "        for j in range(len(a)):\n",
    "            if a[j] == x:\n",
    "                b.append(x/2)\n",
    "    if not b:\n",
    "        return 0\n",
    "    else:\n",
    "        return b[0]"
   ]
  },
  {
   "cell_type": "code",
   "execution_count": 43,
   "metadata": {},
   "outputs": [
    {
     "output_type": "stream",
     "name": "stdout",
     "text": [
      "- success rate: 497/497 (100.0%)\n- error count: 0\n- best performance: 1\n- worst performance: 1\n- mean performance: 1.0\n"
     ]
    }
   ],
   "source": [
    "smallest_where_double_also.evaluate(artur)"
   ]
  },
  {
   "cell_type": "code",
   "execution_count": 44,
   "metadata": {},
   "outputs": [],
   "source": [
    "from jkg_evaluators import string_with_most_a_letters"
   ]
  },
  {
   "cell_type": "code",
   "execution_count": 51,
   "metadata": {},
   "outputs": [],
   "source": [
    "def sebi(list_of_words):\n",
    "    max_a = 0\n",
    "    max_a_index = -1\n",
    "    for i in list_of_words:\n",
    "        for j in range(len(list_of_words)):\n",
    "            \n",
    "            tup = (i,j)\n",
    "    print(tup)\n"
   ]
  },
  {
   "cell_type": "code",
   "execution_count": 52,
   "metadata": {},
   "outputs": [
    {
     "output_type": "error",
     "ename": "NameError",
     "evalue": "name 'tup' is not defined",
     "traceback": [
      "\u001b[0;31m---------------------------------------------------------------------------\u001b[0m",
      "\u001b[0;31mNameError\u001b[0m                                 Traceback (most recent call last)",
      "\u001b[0;32m<ipython-input-52-e53effd3fe38>\u001b[0m in \u001b[0;36m<module>\u001b[0;34m\u001b[0m\n\u001b[0;32m----> 1\u001b[0;31m \u001b[0msebi\u001b[0m\u001b[0;34m(\u001b[0m\u001b[0;34m[\u001b[0m\u001b[0;34m\"alma\"\u001b[0m\u001b[0;34m,\u001b[0m\u001b[0;34m\"korte\"\u001b[0m\u001b[0;34m,\u001b[0m\u001b[0;34m\"szo\"\u001b[0m\u001b[0;34m]\u001b[0m\u001b[0;34m)\u001b[0m\u001b[0;34m\u001b[0m\u001b[0;34m\u001b[0m\u001b[0m\n\u001b[0m",
      "\u001b[0;32m<ipython-input-51-f551cd737bf9>\u001b[0m in \u001b[0;36msebi\u001b[0;34m(list_of_words)\u001b[0m\n\u001b[1;32m      4\u001b[0m     \u001b[0;32mfor\u001b[0m \u001b[0mi\u001b[0m \u001b[0;32min\u001b[0m \u001b[0mlist_of_words\u001b[0m\u001b[0;34m:\u001b[0m\u001b[0;34m\u001b[0m\u001b[0;34m\u001b[0m\u001b[0m\n\u001b[1;32m      5\u001b[0m         \u001b[0;32mfor\u001b[0m \u001b[0mj\u001b[0m \u001b[0;32min\u001b[0m \u001b[0mrange\u001b[0m\u001b[0;34m(\u001b[0m\u001b[0mlen\u001b[0m\u001b[0;34m(\u001b[0m\u001b[0mlist_of_words\u001b[0m\u001b[0;34m)\u001b[0m\u001b[0;34m)\u001b[0m\u001b[0;34m:\u001b[0m\u001b[0;34m\u001b[0m\u001b[0;34m\u001b[0m\u001b[0m\n\u001b[0;32m----> 6\u001b[0;31m             \u001b[0mtup\u001b[0m\u001b[0;34m.\u001b[0m\u001b[0mappend\u001b[0m\u001b[0;34m(\u001b[0m\u001b[0mi\u001b[0m\u001b[0;34m,\u001b[0m\u001b[0mj\u001b[0m\u001b[0;34m)\u001b[0m\u001b[0;34m\u001b[0m\u001b[0;34m\u001b[0m\u001b[0m\n\u001b[0m\u001b[1;32m      7\u001b[0m     \u001b[0mprint\u001b[0m\u001b[0;34m(\u001b[0m\u001b[0mtup\u001b[0m\u001b[0;34m)\u001b[0m\u001b[0;34m\u001b[0m\u001b[0;34m\u001b[0m\u001b[0m\n",
      "\u001b[0;31mNameError\u001b[0m: name 'tup' is not defined"
     ]
    }
   ],
   "source": [
    "sebi([\"alma\",\"korte\",\"szo\"])"
   ]
  },
  {
   "cell_type": "code",
   "execution_count": null,
   "metadata": {},
   "outputs": [],
   "source": [
    "string_with_most_a_letters.evaluate(sebi)"
   ]
  },
  {
   "cell_type": "code",
   "execution_count": 120,
   "metadata": {},
   "outputs": [],
   "source": [
    "from collections import Counter\n",
    "\n",
    "def most_a_proba(list_of_words):\n",
    "    a = []\n",
    "    numa = 0\n",
    "    numberings = []\n",
    "    lowlist = [x.lower() for x in list_of_words]\n",
    "    \n",
    "    for i in range(len(lowlist)):\n",
    "        count = 0\n",
    "        for j in lowlist[i]:\n",
    "            if j == 'a':\n",
    "                numa += 1\n",
    "        numberings.append(numa)\n",
    "        numa = 0\n",
    "    if not numberings:\n",
    "        return -1\n",
    "    else:\n",
    "        return(numberings.index(max(numberings)))"
   ]
  },
  {
   "cell_type": "code",
   "execution_count": 121,
   "metadata": {},
   "outputs": [
    {
     "output_type": "stream",
     "name": "stdout",
     "text": [
      "- success rate: 494/495 (100.0%)\n- error count: 0\n- best performance: 1\n- worst performance: 0\n- mean performance: 0.997979797979798\n\n\n BAD SOLUTION at: \n {'list_of_words': ['b', 'bb', 'bBb']}\n"
     ]
    }
   ],
   "source": [
    "string_with_most_a_letters.evaluate(most_a_proba)"
   ]
  },
  {
   "cell_type": "code",
   "execution_count": 122,
   "metadata": {},
   "outputs": [
    {
     "output_type": "execute_result",
     "data": {
      "text/plain": [
       "1"
      ]
     },
     "metadata": {},
     "execution_count": 122
    }
   ],
   "source": [
    "wordlist = [\"szo\",\"alma\",\"traktor\",\"korte\",\"auto\"]\n",
    "most_a_proba(wordlist)"
   ]
  },
  {
   "cell_type": "code",
   "execution_count": null,
   "metadata": {},
   "outputs": [],
   "source": []
  }
 ]
}