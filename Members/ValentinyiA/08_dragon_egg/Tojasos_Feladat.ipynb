{
 "cells": [
  {
   "cell_type": "code",
   "execution_count": 4,
   "metadata": {},
   "outputs": [],
   "source": [
    "from jkg_evaluators import eggdrop_100floor_2egg"
   ]
  },
  {
   "cell_type": "code",
   "execution_count": 11,
   "metadata": {},
   "outputs": [
    {
     "name": "stdout",
     "output_type": "stream",
     "text": [
      "Minimum number of trials in worst case with2eggs and 100 floors is 14\n"
     ]
    }
   ],
   "source": [
    "def eggdrop(p, r):\n",
    "    eggfloor = [[0 for x in range(r + 1)] for x in range(p + 1)] \n",
    "  \n",
    "    for i in range(1, p + 1): \n",
    "        eggfloor[i][1] = 1\n",
    "        eggfloor[i][0] = 0\n",
    "  \n",
    "    for j in range(1, r + 1): \n",
    "        eggfloor[1][j] = j \n",
    "  \n",
    "    for i in range(2, p + 1): \n",
    "        for j in range(2, r + 1): \n",
    "            eggfloor[i][j] = INT_MAX \n",
    "            for x in range(1, j + 1): \n",
    "                res = 1 + max(eggfloor[i-1][x-1], eggfloor[i][j-x]) \n",
    "                if res < eggfloor[i][j]: \n",
    "                    eggfloor[i][j] = res \n",
    "  \n",
    "    return eggfloor[p][r] \n",
    "  \n",
    "p = 2\n",
    "r = 100\n",
    "print(\"Minimum number of trials in worst case with\" + str(p) + \"eggs and \" \n",
    "       + str(r) + \" floors is \" + str(eggdrop(p, r)))\n"
   ]
  },
  {
   "cell_type": "code",
   "execution_count": null,
   "metadata": {},
   "outputs": [],
   "source": []
  }
 ],
 "metadata": {
  "kernelspec": {
   "display_name": "Python 3",
   "language": "python",
   "name": "python3"
  },
  "language_info": {
   "codemirror_mode": {
    "name": "ipython",
    "version": 3
   },
   "file_extension": ".py",
   "mimetype": "text/x-python",
   "name": "python",
   "nbconvert_exporter": "python",
   "pygments_lexer": "ipython3",
   "version": "3.8.2"
  }
 },
 "nbformat": 4,
 "nbformat_minor": 4
}
