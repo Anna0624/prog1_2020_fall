{
 "cells": [
  {
   "cell_type": "code",
   "execution_count": 6,
   "metadata": {},
   "outputs": [],
   "source": [
    "from jkg_evaluators import largest_even_divided"
   ]
  },
  {
   "cell_type": "code",
   "execution_count": 11,
   "metadata": {},
   "outputs": [],
   "source": [
    "def find_largest_even_divided(list_of_numbers, number):\n",
    "    sorted (list_of_numbers)\n",
    "    while len(list_of_numbers) != 0:\n",
    "        if (max(list_of_numbers) / number) % 2 == 0: \n",
    "            return max(list_of_numbers)\n",
    "        elif (max(list_of_numbers) / number) % 2 >= 0 or (max(list_of_numbers) / number) % 2 <= 0:\n",
    "            list_of_numbers.remove (max(list_of_numbers))\n",
    "            \n",
    "    else: \n",
    "        return 0"
   ]
  },
  {
   "cell_type": "code",
   "execution_count": 12,
   "metadata": {},
   "outputs": [
    {
     "name": "stdout",
     "output_type": "stream",
     "text": [
      "- success rate: 497/497 (100.0%)\n",
      "- error count: 0\n",
      "- best performance: 1\n",
      "- worst performance: 1\n",
      "- mean performance: 1.0\n"
     ]
    }
   ],
   "source": [
    "largest_even_divided.evaluate(find_largest_even_divided)"
   ]
  },
  {
   "cell_type": "code",
   "execution_count": null,
   "metadata": {},
   "outputs": [],
   "source": []
  }
 ],
 "metadata": {
  "kernelspec": {
   "display_name": "Python 3",
   "language": "python",
   "name": "python3"
  },
  "language_info": {
   "codemirror_mode": {
    "name": "ipython",
    "version": 3
   },
   "file_extension": ".py",
   "mimetype": "text/x-python",
   "name": "python",
   "nbconvert_exporter": "python",
   "pygments_lexer": "ipython3",
   "version": "3.8.2"
  }
 },
 "nbformat": 4,
 "nbformat_minor": 4
}
