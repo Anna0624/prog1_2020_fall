{
 "cells": [
  {
   "cell_type": "code",
   "execution_count": 2,
   "metadata": {},
   "outputs": [],
   "source": [
    "from jkg_evaluators import largest_even_divided"
   ]
  },
  {
   "cell_type": "code",
   "execution_count": 4,
   "metadata": {},
   "outputs": [],
   "source": [
    "def find_largest_even_divided(list_of_numbers, number):\n",
    "    i = int()\n",
    "    for i in list_of_numbers:\n",
    "        if (max(list_of_numbers) / number) % 2 == 0: \n",
    "            return max(list_of_numbers)\n",
    "        elif (max(list_of_numbers) / number) % 2 >= 0 or (max(list_of_numbers) / number) % 2 <= 0:\n",
    "            list_of_numbers.remove (max(list_of_numbers))\n",
    "    else: \n",
    "        return 0"
   ]
  },
  {
   "cell_type": "code",
   "execution_count": 5,
   "metadata": {},
   "outputs": [
    {
     "name": "stdout",
     "output_type": "stream",
     "text": [
      "- success rate: 489/497 (98.0%)\n",
      "- error count: 0\n",
      "- best performance: 1\n",
      "- worst performance: 0\n",
      "- mean performance: 0.9839034205231388\n",
      "\n",
      "\n",
      " BAD SOLUTION at: \n",
      " {'number': 3, 'list_of_numbers': [844, -424, 6, -713, 167, 794, -328, -331, 999, 874, 914]}\n",
      "\n",
      "\n",
      " BAD SOLUTION at: \n",
      " {'number': 4, 'list_of_numbers': [-860, -387, -976, 209, -781, 301, 362, 695, 415, 485, -255, 815, 793, -925, -786, -308, -324, -968, -250, -375, 485, 962, -968, -477, -71]}\n",
      "\n",
      "\n",
      " BAD SOLUTION at: \n",
      " {'number': 4, 'list_of_numbers': [-277, 778, 422, -943, 867, -710, 753, -297, -803, -369, 103, -526, -133, -377, -840, -645, -952, -93, -228, 123, 462, -535, 34, -260, 148, 957, -918, 339, 195, 197, 515]}\n",
      "\n",
      "\n",
      " BAD SOLUTION at: \n",
      " {'number': 5, 'list_of_numbers': [955, 607, 407, 264, -59, -748, -26, -876, -954, -795, -629, -673, 175, 977, 925, 412, 599, -660, 333, 578, -676, -547, -732, -680, -145, -122, 164, 945, -882, -211, -506, 149, 661, 535]}\n",
      "\n",
      "\n",
      " BAD SOLUTION at: \n",
      " {'number': 4, 'list_of_numbers': [227, -63, -628, 273, -190, -194, 774, -826, -309, -534, -34, 462, -493, -481, -101, -612, -896, 197, -550, 666, 606, -462, -969, 722, -306, 387, -320, -820, -578, 585, 559, -484, 70, 26, 374, 353, 605, -970, -993, -171, 676, -841, -651, 86, -455, -617, 421, 42, -50, 851, -916]}\n",
      "\n",
      "\n",
      " BAD SOLUTION at: \n",
      " {'number': 3, 'list_of_numbers': [-842, -1000, 911, -986, -420, 928, -261, -143, 105, -712, -244, 165, 232, -394, -69, 647, 653, 405, 883, -468, 818, 33, -996, -896, -272, 742, 746, -223, 577, -996, 881, 725, 905, 117, -359, 585, 347, -140, -739, 523, -258, 263, 664, -93, 223, -472, 557, -680, -19, 509, -468, -140, -969]}\n",
      "\n",
      "\n",
      " BAD SOLUTION at: \n",
      " {'number': 6, 'list_of_numbers': [-889, 773, -608, 341, 633, -736, -761, -156, -741, 438, -851, 975, -585, 82, 668, -670, 725, 125, -57, -783, -613, -555, -230, 769, -900, -793, -420, 463, -627, -29, 460, -563, 582, 61, 94, 85, 437, -819, -859, 438, -912, -664, 497, 962, -546, -783, -316, -851, 254, 377, 990, -767, 786, 941]}\n",
      "\n",
      "\n",
      " BAD SOLUTION at: \n",
      " {'number': 9, 'list_of_numbers': [401, 315, -502, -87, -93, -258, 85, 407, -1, -294, 112, -207, 128, -57, 7, 23, -855, 413, 394, -517, -303, -590, -333, 651, -94, 628, 157, 933, 901, 343, -404, 425, 744, -768, 898, -243, -251, 73, -816, 862, -774, -270, -331, -77, -188, 462, 716, 129, -534, -412, -389, 569, 159, 885, 878, 314, -445, -77, 53, -964, 320, 374, 901, -343, 913, 478, 821, 330, -693, -962, -354, 976, 706, 231, 471, 871, -986, -200, 580, 878, -149, 289, -83, 935, -106, -639, -980, 453, 213, -712, -334, 761, -207, -990, 641, 201, 826, 957, -267, 901]}\n"
     ]
    }
   ],
   "source": [
    "largest_even_divided.evaluate(find_largest_even_divided)"
   ]
  },
  {
   "cell_type": "code",
   "execution_count": null,
   "metadata": {},
   "outputs": [],
   "source": []
  }
 ],
 "metadata": {
  "kernelspec": {
   "display_name": "Python 3",
   "language": "python",
   "name": "python3"
  },
  "language_info": {
   "codemirror_mode": {
    "name": "ipython",
    "version": 3
   },
   "file_extension": ".py",
   "mimetype": "text/x-python",
   "name": "python",
   "nbconvert_exporter": "python",
   "pygments_lexer": "ipython3",
   "version": "3.8.2"
  }
 },
 "nbformat": 4,
 "nbformat_minor": 4
}
