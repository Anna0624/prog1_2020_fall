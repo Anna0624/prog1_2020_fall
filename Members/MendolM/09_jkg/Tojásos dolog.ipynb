{
 "cells": [
  {
   "cell_type": "code",
   "execution_count": 1,
   "metadata": {},
   "outputs": [
    {
     "name": "stdout",
     "output_type": "stream",
     "text": [
      "- success rate: 100/101 (99.0%)\n",
      "- error count: 0\n",
      "- best performance: 1\n",
      "- worst performance: 100\n",
      "- mean performance: 50.99009900990099\n",
      "\n",
      "\n",
      " BAD SOLUTION at: \n",
      " {'egg_count': 2, 'floor_count': 100, 'max_floor': 100}\n"
     ]
    }
   ],
   "source": [
    "from jkg_evaluators import eggdrop_100floor_2egg\n",
    "def my_solution1(breaks):\n",
    "\n",
    "    for i in range(1,101):\n",
    "        if breaks(i):\n",
    "            return i - 1\n",
    "eggdrop_100floor_2egg.evaluate(my_solution1)"
   ]
  },
  {
   "cell_type": "code",
   "execution_count": 49,
   "metadata": {},
   "outputs": [
    {
     "name": "stdout",
     "output_type": "stream",
     "text": [
      "- success rate: 101/101 (100.0%)\n",
      "- error count: 0\n",
      "- best performance: 2\n",
      "- worst performance: 20\n",
      "- mean performance: 11.009900990099009\n"
     ]
    }
   ],
   "source": [
    "from jkg_evaluators import eggdrop_100floor_2egg\n",
    "def my_solution2(breaks):\n",
    "    \n",
    "    aktualis = 10\n",
    "    while breaks(aktualis) == False:\n",
    "        aktualis += 10\n",
    "    maxfloor = aktualis\n",
    "    for i in range(maxfloor-9, maxfloor+1):\n",
    "            if breaks(i):\n",
    "                return i-1\n",
    "        \n",
    "eggdrop_100floor_2egg.evaluate(my_solution2)  \n",
    "  "
   ]
  },
  {
   "cell_type": "code",
   "execution_count": null,
   "metadata": {},
   "outputs": [],
   "source": []
  }
 ],
 "metadata": {
  "kernelspec": {
   "display_name": "Python 3",
   "language": "python",
   "name": "python3"
  },
  "language_info": {
   "codemirror_mode": {
    "name": "ipython",
    "version": 3
   },
   "file_extension": ".py",
   "mimetype": "text/x-python",
   "name": "python",
   "nbconvert_exporter": "python",
   "pygments_lexer": "ipython3",
   "version": "3.8.3"
  }
 },
 "nbformat": 4,
 "nbformat_minor": 4
}
