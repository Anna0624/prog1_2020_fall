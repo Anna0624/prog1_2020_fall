{
 "cells": [
  {
   "cell_type": "code",
   "execution_count": 22,
   "metadata": {
    "scrolled": true
   },
   "outputs": [
    {
     "name": "stdout",
     "output_type": "stream",
     "text": [
      "3\n"
     ]
    }
   ],
   "source": [
    "#Kreáltam egy \"alma\" nevű listát, különböző string típusú értékekkel.\n",
    "#Ezt követően létrehoztam egy üres listá \"a_szama\" néven. Ehhez a listához \n",
    "#elkezdtem iterálni az alma lista szavain, megszámolva, hogy az egyes string\n",
    "#változók hány darab \"a\" betűt tartalmaznak. Az \"a\" betűk számát a az iteráció\n",
    "#sorrendjében hozzárendeltem a a_szama listához, amiben az iteráció végére belekerült\n",
    "#az egyes szavakban található \"a\" betűk száma, megőrizve a kiindulási listában\n",
    "#elfoglalt indexét. Majd a ha_egy nevű változómhoz hozzárendeltem a legtöbb \"a\"\n",
    "#betűt tartalmazó string indexét és végül ezt printeltem ki a programmal.\n",
    "#Arra az esetre, hogyha nincsen \"a\" betűt tartalmazó string a listában, egy\n",
    "# if-fel elágaztatattam ezt a lehetőséget.\n",
    "\n",
    "\n",
    "alma = [\"valami\", \"fenyes\", \"tukor\", \"alkalmatlan\", \"arra\", \"amivel\", \"megbiztak\"]\n",
    "\n",
    "a_szama = []\n",
    "for i in alma:\n",
    "    szama = (i.count('a'))\n",
    "    a_szama.append(szama)\n",
    "\n",
    "ha_egy = a_szama.index(max(a_szama))\n",
    "if max(a_szama) <1:\n",
    "    print (-1)\n",
    "else:print (ha_egy)"
   ]
  },
  {
   "cell_type": "code",
   "execution_count": null,
   "metadata": {},
   "outputs": [],
   "source": []
  }
 ],
 "metadata": {
  "kernelspec": {
   "display_name": "Python 3",
   "language": "python",
   "name": "python3"
  },
  "language_info": {
   "codemirror_mode": {
    "name": "ipython",
    "version": 3
   },
   "file_extension": ".py",
   "mimetype": "text/x-python",
   "name": "python",
   "nbconvert_exporter": "python",
   "pygments_lexer": "ipython3",
   "version": "3.8.3"
  }
 },
 "nbformat": 4,
 "nbformat_minor": 4
}
