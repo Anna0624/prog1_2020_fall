{
 "cells": [
  {
   "cell_type": "code",
   "execution_count": 178,
   "metadata": {},
   "outputs": [
    {
     "name": "stdout",
     "output_type": "stream",
     "text": [
      "0\n",
      "4\n",
      "0\n",
      "4\n"
     ]
    }
   ],
   "source": [
    "# def egy():\n",
    "l1 = [3,5,24,9,15,-4,87]\n",
    "l2 = [6,17,134,-11,26,-1]\n",
    "\n",
    "    #A beépített len függvény egy iterálható objektum elemeinek számát adja visszatérési értékként.\n",
    "    #Pl. lista elemeinek száma\n",
    "for n in range(len(l1)):\n",
    "\n",
    "        if l1[n-1] > l2[n-1]:\n",
    "            print(n)\n",
    "egy()"
   ]
  },
  {
   "cell_type": "code",
   "execution_count": 179,
   "metadata": {},
   "outputs": [
    {
     "data": {
      "text/plain": [
       "'semmi'"
      ]
     },
     "execution_count": 179,
     "metadata": {},
     "output_type": "execute_result"
    }
   ],
   "source": [
    "def ketto(x, y, z):\n",
    "    \n",
    "    if x + y > z and x + z > y and y + z > x:\n",
    "        a = 'háromszög'\n",
    "    \n",
    "        return (x, y, z)\n",
    "    else:\n",
    "        return 'semmi'\n",
    "\n",
    "ketto(1,2,3)"
   ]
  },
  {
   "cell_type": "code",
   "execution_count": 180,
   "metadata": {},
   "outputs": [],
   "source": [
    "def harom():\n",
    "    k = 2\n",
    "    s = 2\n",
    "\n",
    "    while k <= 100:\n",
    "\n",
    "        if k % 2 == 0:\n",
    "            k = s + k\n",
    "\n",
    "harom()"
   ]
  },
  {
   "cell_type": "code",
   "execution_count": 181,
   "metadata": {},
   "outputs": [],
   "source": [
    "def negy():\n",
    "    t = [0,1,4,3]\n",
    "\n",
    "    for i in range(len(t)):\n",
    "\n",
    "        if (len('alma') == range(i)) & (len (range(i)) < 4):\n",
    "\n",
    "            None\n",
    "            \n",
    "negy()"
   ]
  },
  {
   "cell_type": "code",
   "execution_count": 182,
   "metadata": {},
   "outputs": [
    {
     "data": {
      "text/plain": [
       "[1, 2, 4, 5, 7, 8]"
      ]
     },
     "execution_count": 182,
     "metadata": {},
     "output_type": "execute_result"
    }
   ],
   "source": [
    "def ot():\n",
    "    input_lista = [112,4234,721,1002,5982,1035]\n",
    "    out = [1, 2, 4, 5, 7, 8]\n",
    "\n",
    "    for i in range(0,10):\n",
    "\n",
    "        if input_lista[i] < input_lista[i+1]:\n",
    "\n",
    "            out[i] == input_lista[i]\n",
    "\n",
    "        return out\n",
    "\n",
    "ot()"
   ]
  },
  {
   "cell_type": "code",
   "execution_count": 183,
   "metadata": {},
   "outputs": [],
   "source": [
    "def hat():\n",
    "    l = [1,1,1,1,1]\n",
    "    i = 1\n",
    "    \n",
    "    while l[i] == 1:\n",
    "\n",
    "        if l[i+1] == i:\n",
    "\n",
    "            l[i] += 1\n",
    "\n",
    "        else:\n",
    "\n",
    "            'Error'\n",
    "            \n",
    "hat()"
   ]
  },
  {
   "cell_type": "code",
   "execution_count": 185,
   "metadata": {},
   "outputs": [
    {
     "data": {
      "text/plain": [
       "5"
      ]
     },
     "execution_count": 185,
     "metadata": {},
     "output_type": "execute_result"
    }
   ],
   "source": [
    "def het():\n",
    "    genya = 0\n",
    "    \n",
    "    for i in range(0, 10, 5):\n",
    "        genya += i\n",
    "\n",
    "    return genya\n",
    "    \n",
    "het()"
   ]
  },
  {
   "cell_type": "code",
   "execution_count": 186,
   "metadata": {},
   "outputs": [
    {
     "data": {
      "text/plain": [
       "'m'"
      ]
     },
     "execution_count": 186,
     "metadata": {},
     "output_type": "execute_result"
    }
   ],
   "source": [
    "def nyolc():\n",
    "    banka = \"almamáter\"\n",
    "    tanga = \"\"\n",
    "    for lanka in banka:\n",
    "        if lanka > tanga:\n",
    "            tanga = lanka\n",
    "        else:\n",
    "        \n",
    "            return tanga\n",
    "    \n",
    "nyolc()"
   ]
  },
  {
   "cell_type": "code",
   "execution_count": 203,
   "metadata": {},
   "outputs": [
    {
     "data": {
      "text/plain": [
       "'m'"
      ]
     },
     "execution_count": 203,
     "metadata": {},
     "output_type": "execute_result"
    }
   ],
   "source": [
    "def kilenc():\n",
    "    árán = \"\"\n",
    "    száján = \"szárán\"\n",
    "    while len(árán) < 5:\n",
    "            árván = száján * 2\n",
    "            kárán = len(száján) // 3\n",
    "        \n",
    "            for bárány in száján:\n",
    "                if száján[kárán] == bárány:\n",
    "                    álcám = True\n",
    "                else:\n",
    "                    álcám = False\n",
    "        \n",
    "            if álcám:\n",
    "                lányán = False\n",
    "                fácán = True\n",
    "            else:\n",
    "                lányán = True\n",
    "                fácán = False\n",
    "        \n",
    "            if lányán:\n",
    "                árán += \"m\"\n",
    "            elif fácán:\n",
    "                árán += \"n\"\n",
    "            else:\n",
    "                hamutálcán = \"pusztulásán\"\n",
    "            \n",
    "            return árán\n",
    "kilenc()"
   ]
  },
  {
   "cell_type": "code",
   "execution_count": null,
   "metadata": {
    "collapsed": true
   },
   "outputs": [],
   "source": []
  }
 ],
 "metadata": {
  "kernelspec": {
   "display_name": "Python 3",
   "language": "python",
   "name": "python3"
  }
 },
 "nbformat": 4,
 "nbformat_minor": 4
}
