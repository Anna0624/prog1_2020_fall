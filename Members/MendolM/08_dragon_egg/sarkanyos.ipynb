{
 "cells": [
  {
   "cell_type": "code",
   "execution_count": 49,
   "metadata": {},
   "outputs": [],
   "source": [
    "from jkg_evaluators import dragonfind_10_to_500"
   ]
  },
  {
   "cell_type": "code",
   "execution_count": 50,
   "metadata": {},
   "outputs": [],
   "source": [
    "cow_alive_list_test_1 = [False, False, True, True, True]"
   ]
  },
  {
   "cell_type": "code",
   "execution_count": 58,
   "metadata": {},
   "outputs": [
    {
     "ename": "SyntaxError",
     "evalue": "invalid syntax (<ipython-input-58-c41520d58349>, line 9)",
     "output_type": "error",
     "traceback": [
      "\u001b[1;36m  File \u001b[1;32m\"<ipython-input-58-c41520d58349>\"\u001b[1;36m, line \u001b[1;32m9\u001b[0m\n\u001b[1;33m    if is_dead[middle_cow]\u001b[0m\n\u001b[1;37m                          ^\u001b[0m\n\u001b[1;31mSyntaxError\u001b[0m\u001b[1;31m:\u001b[0m invalid syntax\n"
     ]
    }
   ],
   "source": [
    "def my_solution2(is_dead,number_of_cows):\n",
    "    fat_cow_index = number_of_cows\n",
    "    thin_cow_index = 1\n",
    "    \n",
    "    middle_cow = int((fat_cow_index + \n",
    "                          thin_cow_index) / 2)\n",
    "    while (thin_cow_index + 1) < fat_cow_index:\n",
    "        \n",
    "        if cow_alive_list[middle_cow]:\n",
    "            fat_cow_index = middle_cow\n",
    "        else:\n",
    "            fat_cow_index = middle_cow\n",
    "    \n",
    "    return middle_cow + 1"
   ]
  },
  {
   "cell_type": "code",
   "execution_count": 59,
   "metadata": {},
   "outputs": [
    {
     "name": "stdout",
     "output_type": "stream",
     "text": [
      "- success rate: 0/124714 (0.0%)\n",
      "- error count: 124714\n",
      "\n",
      "\n",
      " ERROR at: \n",
      " {'number_of_cows': 10, 'dragon_coming_to': 1} \n",
      " - NameError (name 'cow_alive_list' is not defined)\n",
      "\n",
      "\n",
      " ERROR at: \n",
      " {'number_of_cows': 10, 'dragon_coming_to': 2} \n",
      " - NameError (name 'cow_alive_list' is not defined)\n",
      "\n",
      "\n",
      " ERROR at: \n",
      " {'number_of_cows': 10, 'dragon_coming_to': 3} \n",
      " - NameError (name 'cow_alive_list' is not defined)\n",
      "\n",
      "\n",
      " ERROR at: \n",
      " {'number_of_cows': 10, 'dragon_coming_to': 4} \n",
      " - NameError (name 'cow_alive_list' is not defined)\n",
      "\n",
      "\n",
      " ERROR at: \n",
      " {'number_of_cows': 10, 'dragon_coming_to': 5} \n",
      " - NameError (name 'cow_alive_list' is not defined)\n",
      "\n",
      "\n",
      " ERROR at: \n",
      " {'number_of_cows': 10, 'dragon_coming_to': 6} \n",
      " - NameError (name 'cow_alive_list' is not defined)\n",
      "\n",
      "\n",
      " ERROR at: \n",
      " {'number_of_cows': 10, 'dragon_coming_to': 7} \n",
      " - NameError (name 'cow_alive_list' is not defined)\n",
      "\n",
      "\n",
      " ERROR at: \n",
      " {'number_of_cows': 10, 'dragon_coming_to': 8} \n",
      " - NameError (name 'cow_alive_list' is not defined)\n",
      "\n",
      "\n",
      " ERROR at: \n",
      " {'number_of_cows': 10, 'dragon_coming_to': 9} \n",
      " - NameError (name 'cow_alive_list' is not defined)\n",
      "\n",
      "\n",
      " ERROR at: \n",
      " {'number_of_cows': 11, 'dragon_coming_to': 1} \n",
      " - NameError (name 'cow_alive_list' is not defined)\n"
     ]
    }
   ],
   "source": [
    "dragonfind_10_to_500.evaluate(my_solution2)"
   ]
  },
  {
   "cell_type": "code",
   "execution_count": null,
   "metadata": {},
   "outputs": [],
   "source": []
  },
  {
   "cell_type": "code",
   "execution_count": 13,
   "metadata": {},
   "outputs": [
    {
     "name": "stdout",
     "output_type": "stream",
     "text": [
      "- success rate: 0/124714 (0.0%)\n",
      "- error count: 124714\n",
      "\n",
      "\n",
      " ERROR at: \n",
      " {'number_of_cows': 10, 'dragon_coming_to': 1} \n",
      " - TypeError (object of type 'int' has no len())\n",
      "\n",
      "\n",
      " ERROR at: \n",
      " {'number_of_cows': 10, 'dragon_coming_to': 2} \n",
      " - TypeError (object of type 'int' has no len())\n",
      "\n",
      "\n",
      " ERROR at: \n",
      " {'number_of_cows': 10, 'dragon_coming_to': 3} \n",
      " - TypeError (object of type 'int' has no len())\n",
      "\n",
      "\n",
      " ERROR at: \n",
      " {'number_of_cows': 10, 'dragon_coming_to': 4} \n",
      " - TypeError (object of type 'int' has no len())\n",
      "\n",
      "\n",
      " ERROR at: \n",
      " {'number_of_cows': 10, 'dragon_coming_to': 5} \n",
      " - TypeError (object of type 'int' has no len())\n",
      "\n",
      "\n",
      " ERROR at: \n",
      " {'number_of_cows': 10, 'dragon_coming_to': 6} \n",
      " - TypeError (object of type 'int' has no len())\n",
      "\n",
      "\n",
      " ERROR at: \n",
      " {'number_of_cows': 10, 'dragon_coming_to': 7} \n",
      " - TypeError (object of type 'int' has no len())\n",
      "\n",
      "\n",
      " ERROR at: \n",
      " {'number_of_cows': 10, 'dragon_coming_to': 8} \n",
      " - TypeError (object of type 'int' has no len())\n",
      "\n",
      "\n",
      " ERROR at: \n",
      " {'number_of_cows': 10, 'dragon_coming_to': 9} \n",
      " - TypeError (object of type 'int' has no len())\n",
      "\n",
      "\n",
      " ERROR at: \n",
      " {'number_of_cows': 11, 'dragon_coming_to': 1} \n",
      " - TypeError (object of type 'int' has no len())\n"
     ]
    }
   ],
   "source": []
  },
  {
   "cell_type": "code",
   "execution_count": null,
   "metadata": {},
   "outputs": [],
   "source": []
  }
 ],
 "metadata": {
  "kernelspec": {
   "display_name": "Python 3",
   "language": "python",
   "name": "python3"
  },
  "language_info": {
   "codemirror_mode": {
    "name": "ipython",
    "version": 3
   },
   "file_extension": ".py",
   "mimetype": "text/x-python",
   "name": "python",
   "nbconvert_exporter": "python",
   "pygments_lexer": "ipython3",
   "version": "3.8.3"
  }
 },
 "nbformat": 4,
 "nbformat_minor": 4
}
