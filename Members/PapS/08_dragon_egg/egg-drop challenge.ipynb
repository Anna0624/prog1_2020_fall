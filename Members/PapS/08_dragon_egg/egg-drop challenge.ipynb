{
 "cells": [
  {
   "cell_type": "code",
   "execution_count": 21,
   "metadata": {
    "ExecuteTime": {
     "end_time": "2020-11-02T22:58:07.640562Z",
     "start_time": "2020-11-02T22:58:07.584566Z"
    }
   },
   "outputs": [],
   "source": [
    "from jkg_evaluators import eggdrop_100floor_2egg"
   ]
  },
  {
   "cell_type": "code",
   "execution_count": 151,
   "metadata": {
    "ExecuteTime": {
     "end_time": "2020-11-03T23:05:34.726871Z",
     "start_time": "2020-11-03T23:05:34.714896Z"
    }
   },
   "outputs": [],
   "source": [
    "def egg_drop(breaks):\n",
    "    \n",
    "    n = 100 # emelet szám\n",
    "    \n",
    "    worst_case = lambda step_size: (n // step_size * step_size) - ((n // step_size - 1) * step_size) - 1 + n // step_size\n",
    "\n",
    "    step_list = [(step_size, worst_case(step_size)) for step_size in range(1, 101)]\n",
    "\n",
    "    step_list.sort(key = lambda x: x[1])\n",
    "\n",
    "    step = step_list[0][0]\n",
    "    \n",
    "    for i in range(step, 101, step):\n",
    "        \n",
    "        if breaks(i):\n",
    "            \n",
    "            for j in range(i - step, i):\n",
    "\n",
    "                if breaks(j):\n",
    "                    return j - 1\n",
    "            \n",
    "            return i - 1\n",
    "    \n",
    "    for j in range(i, 101):\n",
    "\n",
    "        if breaks(j):\n",
    "            return j - 1\n",
    "\n",
    "    return 100"
   ]
  },
  {
   "cell_type": "code",
   "execution_count": 152,
   "metadata": {
    "ExecuteTime": {
     "end_time": "2020-11-03T23:05:35.178813Z",
     "start_time": "2020-11-03T23:05:35.165809Z"
    }
   },
   "outputs": [
    {
     "name": "stdout",
     "output_type": "stream",
     "text": [
      "- success rate: 101/101 (100.0%)\n",
      "- error count: 0\n",
      "- best performance: 3\n",
      "- worst performance: 20\n",
      "- mean performance: 12.069306930693068\n"
     ]
    }
   ],
   "source": [
    "eggdrop_100floor_2egg.evaluate(egg_drop)"
   ]
  },
  {
   "cell_type": "code",
   "execution_count": 153,
   "metadata": {
    "ExecuteTime": {
     "end_time": "2020-11-03T23:05:36.326131Z",
     "start_time": "2020-11-03T23:05:36.086049Z"
    },
    "scrolled": false
   },
   "outputs": [
    {
     "data": {
      "image/png": "[encoded data removed]",
      "text/plain": [
       "<Figure size 792x504 with 1 Axes>"
      ]
     },
     "metadata": {
      "needs_background": "light"
     },
     "output_type": "display_data"
    }
   ],
   "source": [
    "eggdrop_100floor_2egg.visualize(egg_drop)"
   ]
  }
 ],
 "metadata": {
  "hide_input": false,
  "kernelspec": {
   "display_name": "Python 3",
   "language": "python",
   "name": "python3"
  },
  "language_info": {
   "codemirror_mode": {
    "name": "ipython",
    "version": 3
   },
   "file_extension": ".py",
   "mimetype": "text/x-python",
   "name": "python",
   "nbconvert_exporter": "python",
   "pygments_lexer": "ipython3",
   "version": "3.8.6"
  },
  "toc": {
   "base_numbering": 1,
   "nav_menu": {},
   "number_sections": true,
   "sideBar": true,
   "skip_h1_title": false,
   "title_cell": "Table of Contents",
   "title_sidebar": "Contents",
   "toc_cell": false,
   "toc_position": {},
   "toc_section_display": true,
   "toc_window_display": false
  },
  "varInspector": {
   "cols": {
    "lenName": 16,
    "lenType": 16,
    "lenVar": 40
   },
   "kernels_config": {
    "python": {
     "delete_cmd_postfix": "",
     "delete_cmd_prefix": "del ",
     "library": "var_list.py",
     "varRefreshCmd": "print(var_dic_list())"
    },
    "r": {
     "delete_cmd_postfix": ") ",
     "delete_cmd_prefix": "rm(",
     "library": "var_list.r",
     "varRefreshCmd": "cat(var_dic_list()) "
    }
   },
   "types_to_exclude": [
    "module",
    "function",
    "builtin_function_or_method",
    "instance",
    "_Feature"
   ],
   "window_display": false
  }
 },
 "nbformat": 4,
 "nbformat_minor": 4
}
