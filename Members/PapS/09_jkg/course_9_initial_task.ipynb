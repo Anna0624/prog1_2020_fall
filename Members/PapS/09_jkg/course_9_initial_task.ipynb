{
 "cells": [
  {
   "cell_type": "markdown",
   "metadata": {},
   "source": [
    "#### find the word with the most a's in it\n",
    "\n",
    "return the index of the word from a list of words that contains the highest number of the letter a (lower OR higher case, so the word Array contains 2). if none of the words contain any a's, return -1, if multiple contain the same amount return the index of the first one. (remember, indexing starts with zero)\n",
    "\n",
    "> ```[\"a\", \"aA\", \"abc\"] -> 1```"
   ]
  },
  {
   "cell_type": "code",
   "execution_count": 1,
   "metadata": {
    "ExecuteTime": {
     "end_time": "2020-11-06T21:09:21.905153Z",
     "start_time": "2020-11-06T21:09:21.857158Z"
    }
   },
   "outputs": [],
   "source": [
    "from jkg_evaluators import string_with_most_a_letters"
   ]
  },
  {
   "cell_type": "code",
   "execution_count": 16,
   "metadata": {
    "ExecuteTime": {
     "end_time": "2020-11-06T21:20:24.975107Z",
     "start_time": "2020-11-06T21:20:24.969115Z"
    }
   },
   "outputs": [],
   "source": [
    "def most_a_letters_solution(list_of_words):\n",
    "\n",
    "    max_a, max_a_index = 0, -1\n",
    "    \n",
    "    for word_i, word in enumerate(list_of_words):\n",
    "        \n",
    "        a_num = word.lower().count('a')\n",
    "        \n",
    "        if a_num > max_a:\n",
    "            max_a, max_a_index = a_num, word_i\n",
    "    \n",
    "    return max_a_index"
   ]
  },
  {
   "cell_type": "markdown",
   "metadata": {},
   "source": [
    "használni fogalmakat a következő területekről:\n",
    "struktúrális programozás\n",
    "elágazás, iteráció, ciklusmag, feltétel, stb\n",
    "adat\n",
    "értékadás, deklarálás, típus, integer lista, string, stb\n",
    "függvények\n",
    "paraméter, visszatérési érték, definiálás, meghívás\n",
    "imperatív programozás\n",
    "állapot, utasítás\n",
    "stb.\n",
    "leírni olyan részletességgel az algoritmust, hogy abból egy másik ember megértse, és akár reprodukálni tudja"
   ]
  },
  {
   "cell_type": "markdown",
   "metadata": {},
   "source": [
    "Az általam megírt most_a_letters_solution függvény leírása:\n",
    "\n",
    "A függvény egyetlen paramétere a list_of_words, ami egy stringekből álló lista.\n",
    "\n",
    "A függvény először deklarál két változót, majd értékeket ad hozzájuk. Ezek a változók a következők:\n",
    "\n",
    "    max_a: A max_a változó azt mutatja meg, hogy az eddig vizsgált esetekben a különböző szavakban mekkora volt a legnagyobb előfordulási értéke az \"a\" betűnek. Kezdeti értéke a 0.\n",
    "    \n",
    "    max_a_index: A max_a_index azt mutatja meg, hogy a list_of_word listában melyik indexnél szerepelt a legtöbb \"a\" betű (tehát a max_a). Kezdeti értéke -1, de ez csak azt jelöli, hogy nem szerepel a listában, nem pedig azt, hogy az utolsó tag.\n",
    "    \n",
    "Ezután a függvény végig iterál az list_of_words listában szereplő szavakon és azok indexén, tehát a két ciklusváltozó az index és az adott szó lesz. Ehhez a függvény meghív egy másik függvényt, ami a lista minden értéke mellé hozzárendeli egy tuple-ben annak indexét is, majd ennek a függvénynek visszatérési értékén iterál végig. A cikluson belül a következő utasításokat hajtja végre:\n",
    "    \n",
    "    Deklarálja a a_num változót, majd értéket is ad hozzá. A változó értéke a következőkből adódik:\n",
    "        - A szó ciklusváltozón (azaz a szón) meghív egy függvényt, melynek a visszatérési értéke a szó csupa kisbetűvel.\n",
    "        - A csupa kisbetűs szón meghív még egy függvényt, melynek a visszatérési érteke az \"a\" betű előfordulása a kisbetűs szóban.\n",
    "        \n",
    "    Ezután a cikluson belül egy elágazást hajt végre a függvény. A vizsgált kifejezés akkor igaz, ha az a_num változó értéke nagyobb a max_a változó értékénél. Tehát ha a szó ciklusváltozóban többször fordul elő az \"a\" betű, mint az eddigi maximum előfordulásnál. Ha a tesztelt kifejezés igaz, akkor a következő utasításokat hajtja végre a függvény:\n",
    "        - A max_a változó értékékét az a_num változó értékére változtatja. Tehát ez lesz az új legtöbb előfordulása az \"a\" betűnek.\n",
    "        - A max_a_index változó értékét az index ciklusváltozóra változtatja. Tehát ez lesz az indexe annak a szónak, ahol a legtöbb \"a\" betű szerepel. \n",
    "\n",
    "Miután az iteráció végrehajtásra került, azután a függvény visszaadja visszatérési értékként a max_a_index változó értékét."
   ]
  },
  {
   "cell_type": "code",
   "execution_count": 17,
   "metadata": {
    "ExecuteTime": {
     "end_time": "2020-11-06T21:20:31.540996Z",
     "start_time": "2020-11-06T21:20:28.212979Z"
    }
   },
   "outputs": [
    {
     "name": "stdout",
     "output_type": "stream",
     "text": [
      "- success rate: 495/495 (100.0%)\n",
      "- error count: 0\n",
      "- best performance: 1\n",
      "- worst performance: 1\n",
      "- mean performance: 1.0\n"
     ]
    }
   ],
   "source": [
    "string_with_most_a_letters.evaluate(most_a_letters_solution)"
   ]
  }
 ],
 "metadata": {
  "hide_input": false,
  "kernelspec": {
   "display_name": "Python 3",
   "language": "python",
   "name": "python3"
  },
  "language_info": {
   "codemirror_mode": {
    "name": "ipython",
    "version": 3
   },
   "file_extension": ".py",
   "mimetype": "text/x-python",
   "name": "python",
   "nbconvert_exporter": "python",
   "pygments_lexer": "ipython3",
   "version": "3.8.6"
  },
  "toc": {
   "base_numbering": 1,
   "nav_menu": {},
   "number_sections": true,
   "sideBar": true,
   "skip_h1_title": false,
   "title_cell": "Table of Contents",
   "title_sidebar": "Contents",
   "toc_cell": false,
   "toc_position": {},
   "toc_section_display": true,
   "toc_window_display": false
  },
  "varInspector": {
   "cols": {
    "lenName": 16,
    "lenType": 16,
    "lenVar": 40
   },
   "kernels_config": {
    "python": {
     "delete_cmd_postfix": "",
     "delete_cmd_prefix": "del ",
     "library": "var_list.py",
     "varRefreshCmd": "print(var_dic_list())"
    },
    "r": {
     "delete_cmd_postfix": ") ",
     "delete_cmd_prefix": "rm(",
     "library": "var_list.r",
     "varRefreshCmd": "cat(var_dic_list()) "
    }
   },
   "types_to_exclude": [
    "module",
    "function",
    "builtin_function_or_method",
    "instance",
    "_Feature"
   ],
   "window_display": false
  }
 },
 "nbformat": 4,
 "nbformat_minor": 2
}
